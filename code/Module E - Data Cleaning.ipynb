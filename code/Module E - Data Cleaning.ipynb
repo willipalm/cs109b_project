{
 "cells": [
  {
   "cell_type": "markdown",
   "metadata": {},
   "source": [
    "# <img style=\"float: left; padding-right: 10px; width: 45px\" src=\"https://raw.githubusercontent.com/Harvard-IACS/2018-CS109A/master/content/styles/iacs.png\"> CS109B Data Science 2: Advanced Topics in Data Science <br><br> Module E - Project Group 34\n",
    "###  By Paul-Emile Landrin, William Palmer, Victor Sheng, Royce Yap\n",
    "\n",
    "<hr style=\"height:2pt\">"
   ]
  },
  {
   "cell_type": "code",
   "execution_count": 1,
   "metadata": {},
   "outputs": [
    {
     "data": {
      "text/html": [
       "<style>\n",
       "blockquote { background: #AEDE94; }\n",
       "h1 { \n",
       "    padding-top: 25px;\n",
       "    padding-bottom: 25px;\n",
       "    text-align: left; \n",
       "    padding-left: 10px;\n",
       "    background-color: #DDDDDD; \n",
       "    color: black;\n",
       "}\n",
       "h2 { \n",
       "    padding-top: 10px;\n",
       "    padding-bottom: 10px;\n",
       "    text-align: left; \n",
       "    padding-left: 5px;\n",
       "    background-color: #EEEEEE; \n",
       "    color: black;\n",
       "}\n",
       "\n",
       "div.exercise {\n",
       "\tbackground-color: #ffcccc;\n",
       "\tborder-color: #E9967A; \t\n",
       "\tborder-left: 5px solid #800080; \n",
       "\tpadding: 0.5em;\n",
       "}\n",
       "\n",
       "span.sub-q {\n",
       "\tfont-weight: bold;\n",
       "}\n",
       "div.theme {\n",
       "\tbackground-color: #DDDDDD;\n",
       "\tborder-color: #E9967A; \t\n",
       "\tborder-left: 5px solid #800080; \n",
       "\tpadding: 0.5em;\n",
       "\tfont-size: 18pt;\n",
       "}\n",
       "div.gc { \n",
       "\tbackground-color: #AEDE94;\n",
       "\tborder-color: #E9967A; \t \n",
       "\tborder-left: 5px solid #800080; \n",
       "\tpadding: 0.5em;\n",
       "\tfont-size: 12pt;\n",
       "}\n",
       "p.q1 { \n",
       "    padding-top: 5px;\n",
       "    padding-bottom: 5px;\n",
       "    text-align: left; \n",
       "    padding-left: 5px;\n",
       "    background-color: #EEEEEE; \n",
       "    color: black;\n",
       "}\n",
       "header {\n",
       "   padding-top: 35px;\n",
       "    padding-bottom: 35px;\n",
       "    text-align: left; \n",
       "    padding-left: 10px;\n",
       "    background-color: #DDDDDD; \n",
       "    color: black;\n",
       "}\n",
       "</style>\n",
       "\n"
      ],
      "text/plain": [
       "<IPython.core.display.HTML object>"
      ]
     },
     "execution_count": 1,
     "metadata": {},
     "output_type": "execute_result"
    }
   ],
   "source": [
    "#RUN THIS CELL \n",
    "import requests\n",
    "from IPython.core.display import HTML\n",
    "styles = requests.get(\"https://raw.githubusercontent.com/Harvard-IACS/2018-CS109A/master/content/styles/cs109.css\").text\n",
    "HTML(styles)"
   ]
  },
  {
   "cell_type": "markdown",
   "metadata": {},
   "source": [
    "# Dataset 1: NYC Capital Projects Data"
   ]
  },
  {
   "cell_type": "markdown",
   "metadata": {},
   "source": [
    "## Part I: Data Pre-Processing"
   ]
  },
  {
   "cell_type": "markdown",
   "metadata": {},
   "source": [
    "### 1. Import necessary libaries and read the dataset into a Pandas Dataframe"
   ]
  },
  {
   "cell_type": "code",
   "execution_count": 2,
   "metadata": {},
   "outputs": [],
   "source": [
    "# import the necessary libraries\n",
    "%matplotlib inline\n",
    "import numpy as np\n",
    "import scipy as sp\n",
    "from scipy import stats\n",
    "import matplotlib as mpl\n",
    "import matplotlib.cm as cm\n",
    "import matplotlib.pyplot as plt\n",
    "from matplotlib.dates import DateFormatter\n",
    "import matplotlib.dates as mdates\n",
    "import pandas as pd\n",
    "import time\n",
    "import datetime\n",
    "pd.set_option('display.width', 500)\n",
    "pd.set_option('display.max_columns', 200)\n",
    "pd.set_option('display.notebook_repr_html', True)\n",
    "import seaborn as sns"
   ]
  },
  {
   "cell_type": "code",
   "execution_count": 4,
   "metadata": {},
   "outputs": [
    {
     "name": "stdout",
     "output_type": "stream",
     "text": [
      "<class 'pandas.core.frame.DataFrame'>\n",
      "RangeIndex: 2259 entries, 0 to 2258\n",
      "Data columns (total 16 columns):\n",
      " #   Column                   Non-Null Count  Dtype  \n",
      "---  ------                   --------------  -----  \n",
      " 0   Date Reported As Of      2259 non-null   object \n",
      " 1   PID                      2259 non-null   int64  \n",
      " 2   Project Name             2259 non-null   object \n",
      " 3   Description              2150 non-null   object \n",
      " 4   Category                 2259 non-null   object \n",
      " 5   Borough                  1634 non-null   object \n",
      " 6   Managing Agency          2259 non-null   object \n",
      " 7   Client Agency            1644 non-null   object \n",
      " 8   Current Phase            2154 non-null   object \n",
      " 9   Design Start             2095 non-null   object \n",
      " 10  Budget Forecast          2153 non-null   float64\n",
      " 11  Latest Budget Changes    1881 non-null   float64\n",
      " 12  Total Budget Changes     2194 non-null   float64\n",
      " 13  Forecast Completion      2137 non-null   object \n",
      " 14  Latest Schedule Changes  1866 non-null   float64\n",
      " 15  Total Schedule Changes   2186 non-null   float64\n",
      "dtypes: float64(5), int64(1), object(10)\n",
      "memory usage: 282.5+ KB\n"
     ]
    }
   ],
   "source": [
    "df_proj = pd.read_csv('../data/Capital_Projects.csv')\n",
    "df_proj.info();"
   ]
  },
  {
   "cell_type": "markdown",
   "metadata": {},
   "source": [
    "### 2. Check and repair for missing values"
   ]
  },
  {
   "cell_type": "markdown",
   "metadata": {},
   "source": [
    "Next, we explore the dataset to investigate the presence of missing values and if any of them can be repaired through imputation or otherwise. There seems to be an issue with there being more missing values for Budget Forecast vs. Total Budget Changes. We would expect there to be values for the total Budget Forecast, as long as a budget change was made."
   ]
  },
  {
   "cell_type": "code",
   "execution_count": 4,
   "metadata": {},
   "outputs": [
    {
     "data": {
      "text/plain": [
       "Borough                    625\n",
       "Client Agency              615\n",
       "Latest Schedule Changes    393\n",
       "Latest Budget Changes      378\n",
       "Design Start               164\n",
       "Forecast Completion        122\n",
       "Description                109\n",
       "Budget Forecast            106\n",
       "Current Phase              105\n",
       "Total Schedule Changes      73\n",
       "Total Budget Changes        65\n",
       "Managing Agency              0\n",
       "Category                     0\n",
       "Project Name                 0\n",
       "PID                          0\n",
       "Date Reported As Of          0\n",
       "dtype: int64"
      ]
     },
     "execution_count": 4,
     "metadata": {},
     "output_type": "execute_result"
    }
   ],
   "source": [
    "df_proj.isnull().sum().sort_values(ascending=False)"
   ]
  },
  {
   "cell_type": "markdown",
   "metadata": {},
   "source": [
    "Looking through the dataset, it appears that some of the projects have either their latest or earliest reported status with missing values in certain columns, possibly as a result of data collection. To fix this, we use the forward fill and backward fill functions in groupby to fill in the missing values based on the adjacent entries with the same project IDs."
   ]
  },
  {
   "cell_type": "code",
   "execution_count": 5,
   "metadata": {},
   "outputs": [],
   "source": [
    "# Fill in missing values for Project's Budget Forecast based on PID\n",
    "df_proj['Budget Forecast']=df_proj.groupby(['PID'])['Budget Forecast'].ffill(1)\n",
    "df_proj['Budget Forecast']=df_proj.groupby(['PID'])['Budget Forecast'].bfill(1)\n",
    "\n",
    "# Fill in missing values for Project's Design Start based on PID\n",
    "df_proj['Design Start']=df_proj.groupby(['PID'])['Design Start'].ffill(1)\n",
    "df_proj['Design Start']=df_proj.groupby(['PID'])['Design Start'].bfill(1)\n",
    "\n",
    "# Fill in missing values for Project's Schedule Completion based on PID\n",
    "df_proj['Forecast Completion']=df_proj.groupby(['PID'])['Forecast Completion'].ffill(1)\n",
    "df_proj['Forecast Completion']=df_proj.groupby(['PID'])['Forecast Completion'].bfill(1)\n",
    "\n",
    "# Fill in missing values for Project's Total Budget Changes based on PID\n",
    "df_proj['Total Budget Changes']=df_proj.groupby(['PID'])['Total Budget Changes'].ffill(1)\n",
    "df_proj['Total Budget Changes']=df_proj.groupby(['PID'])['Total Budget Changes'].bfill(1)\n",
    "\n",
    "# Fill in missing values for Project's Total Schedule Changes based on PID\n",
    "df_proj['Total Schedule Changes']=df_proj.groupby(['PID'])['Total Schedule Changes'].ffill(1)\n",
    "df_proj['Total Schedule Changes']=df_proj.groupby(['PID'])['Total Schedule Changes'].bfill(1)"
   ]
  },
  {
   "cell_type": "code",
   "execution_count": 6,
   "metadata": {},
   "outputs": [],
   "source": [
    "# Additional operation for missing data\n",
    "df_proj.loc[1462, df_proj.columns != 'Date Reported As Of'].replace(df_proj.loc[1461], inplace=True)\n",
    "df_proj.loc[1462, \"Latest Budget Changes\"]=0"
   ]
  },
  {
   "cell_type": "markdown",
   "metadata": {},
   "source": [
    "### 3. Change date-time variables to datetime type in Pandas"
   ]
  },
  {
   "cell_type": "markdown",
   "metadata": {},
   "source": [
    "To allow for further data exploration and visualization, we change the date-time variables to datetime type and also sort the values by datetime and PID, such that the latest entry for each project appears first across all the same PID entries."
   ]
  },
  {
   "cell_type": "code",
   "execution_count": 7,
   "metadata": {},
   "outputs": [],
   "source": [
    "df_proj[\"Date Reported As Of\"] = pd.to_datetime(df_proj[\"Date Reported As Of\"])\n",
    "df_proj[\"Design Start\"] = pd.to_datetime(df_proj[\"Design Start\"])\n",
    "df_proj[\"Forecast Completion\"] = pd.to_datetime(df_proj[\"Forecast Completion\"])"
   ]
  },
  {
   "cell_type": "code",
   "execution_count": 8,
   "metadata": {},
   "outputs": [],
   "source": [
    "df_proj.sort_values(by=[\"PID\",\"Date Reported As Of\"],ascending=[True,False], inplace=True)"
   ]
  },
  {
   "cell_type": "code",
   "execution_count": 9,
   "metadata": {
    "scrolled": false
   },
   "outputs": [
    {
     "data": {
      "text/html": [
       "<div>\n",
       "<style scoped>\n",
       "    .dataframe tbody tr th:only-of-type {\n",
       "        vertical-align: middle;\n",
       "    }\n",
       "\n",
       "    .dataframe tbody tr th {\n",
       "        vertical-align: top;\n",
       "    }\n",
       "\n",
       "    .dataframe thead th {\n",
       "        text-align: right;\n",
       "    }\n",
       "</style>\n",
       "<table border=\"1\" class=\"dataframe\">\n",
       "  <thead>\n",
       "    <tr style=\"text-align: right;\">\n",
       "      <th></th>\n",
       "      <th>Date Reported As Of</th>\n",
       "      <th>PID</th>\n",
       "      <th>Project Name</th>\n",
       "      <th>Description</th>\n",
       "      <th>Category</th>\n",
       "      <th>Borough</th>\n",
       "      <th>Managing Agency</th>\n",
       "      <th>Client Agency</th>\n",
       "      <th>Current Phase</th>\n",
       "      <th>Design Start</th>\n",
       "      <th>Budget Forecast</th>\n",
       "      <th>Latest Budget Changes</th>\n",
       "      <th>Total Budget Changes</th>\n",
       "      <th>Forecast Completion</th>\n",
       "      <th>Latest Schedule Changes</th>\n",
       "      <th>Total Schedule Changes</th>\n",
       "    </tr>\n",
       "  </thead>\n",
       "  <tbody>\n",
       "    <tr>\n",
       "      <th>12</th>\n",
       "      <td>2019-09-01</td>\n",
       "      <td>3</td>\n",
       "      <td>26th Ward Waste Water Treatment Plant Prelimin...</td>\n",
       "      <td>The 26th Ward WWTP is mandated to be upgraded ...</td>\n",
       "      <td>Wastewater Treatment</td>\n",
       "      <td>Brooklyn</td>\n",
       "      <td>DEP</td>\n",
       "      <td>DEP</td>\n",
       "      <td>Construction</td>\n",
       "      <td>2013-09-23</td>\n",
       "      <td>1.805777e+08</td>\n",
       "      <td>-4664980.0</td>\n",
       "      <td>-4318643.37</td>\n",
       "      <td>2020-10-09</td>\n",
       "      <td>0.0</td>\n",
       "      <td>270.0</td>\n",
       "    </tr>\n",
       "    <tr>\n",
       "      <th>11</th>\n",
       "      <td>2019-05-01</td>\n",
       "      <td>3</td>\n",
       "      <td>26th Ward Waste Water Treatment Plant Prelimin...</td>\n",
       "      <td>The 26th Ward WWTP is mandated to be upgraded ...</td>\n",
       "      <td>Wastewater Treatment</td>\n",
       "      <td>Brooklyn</td>\n",
       "      <td>DEP</td>\n",
       "      <td>DEP</td>\n",
       "      <td>Construction</td>\n",
       "      <td>2013-09-23</td>\n",
       "      <td>1.852427e+08</td>\n",
       "      <td>142978.0</td>\n",
       "      <td>-4318643.37</td>\n",
       "      <td>2020-10-09</td>\n",
       "      <td>42.0</td>\n",
       "      <td>270.0</td>\n",
       "    </tr>\n",
       "    <tr>\n",
       "      <th>10</th>\n",
       "      <td>2019-01-01</td>\n",
       "      <td>3</td>\n",
       "      <td>26th Ward Waste Water Treatment Plant Prelimin...</td>\n",
       "      <td>The 26th Ward WWTP is mandated to be upgraded ...</td>\n",
       "      <td>Wastewater Treatment</td>\n",
       "      <td>Brooklyn</td>\n",
       "      <td>DEP</td>\n",
       "      <td>DEP</td>\n",
       "      <td>Construction</td>\n",
       "      <td>2013-09-23</td>\n",
       "      <td>1.850997e+08</td>\n",
       "      <td>8025707.0</td>\n",
       "      <td>-4318643.37</td>\n",
       "      <td>2020-08-28</td>\n",
       "      <td>31.0</td>\n",
       "      <td>270.0</td>\n",
       "    </tr>\n",
       "  </tbody>\n",
       "</table>\n",
       "</div>"
      ],
      "text/plain": [
       "   Date Reported As Of  PID                                       Project Name                                        Description              Category   Borough Managing Agency Client Agency Current Phase Design Start  Budget Forecast  Latest Budget Changes  Total Budget Changes Forecast Completion  Latest Schedule Changes  Total Schedule Changes\n",
       "12          2019-09-01    3  26th Ward Waste Water Treatment Plant Prelimin...  The 26th Ward WWTP is mandated to be upgraded ...  Wastewater Treatment  Brooklyn             DEP           DEP  Construction   2013-09-23     1.805777e+08             -4664980.0           -4318643.37          2020-10-09                      0.0                   270.0\n",
       "11          2019-05-01    3  26th Ward Waste Water Treatment Plant Prelimin...  The 26th Ward WWTP is mandated to be upgraded ...  Wastewater Treatment  Brooklyn             DEP           DEP  Construction   2013-09-23     1.852427e+08               142978.0           -4318643.37          2020-10-09                     42.0                   270.0\n",
       "10          2019-01-01    3  26th Ward Waste Water Treatment Plant Prelimin...  The 26th Ward WWTP is mandated to be upgraded ...  Wastewater Treatment  Brooklyn             DEP           DEP  Construction   2013-09-23     1.850997e+08              8025707.0           -4318643.37          2020-08-28                     31.0                   270.0"
      ]
     },
     "execution_count": 9,
     "metadata": {},
     "output_type": "execute_result"
    }
   ],
   "source": [
    "df_proj.head(3)"
   ]
  },
  {
   "cell_type": "code",
   "execution_count": 10,
   "metadata": {},
   "outputs": [],
   "source": [
    "# Code to change anomalous errors in entering data\n",
    "df_proj.loc[df_proj[\"Forecast Completion\"].dt.year==2108, \"Forecast Completion\"]=datetime.datetime(2018,10,21)\n",
    "\n",
    "# Project reported 0 budget forecast in first entry before adjusting it; this is anomalous behavior\n",
    "df_proj.loc[df_proj[\"PID\"]==863, \"Budget Forecast\"]= 160090000\n",
    "df_proj.loc[df_proj[\"PID\"]==863, \"Latest Budget Changes\"]= 0\n",
    "df_proj.loc[df_proj[\"PID\"]==863, \"Total Budget Changes\"]= 0"
   ]
  },
  {
   "cell_type": "markdown",
   "metadata": {},
   "source": [
    "### 4. Create Columns for Original Budget, Completion Date and Expected Duration"
   ]
  },
  {
   "cell_type": "code",
   "execution_count": 11,
   "metadata": {},
   "outputs": [],
   "source": [
    "# Create list of unique projects \n",
    "df_proj_unique = df_proj.copy()\n",
    "df_proj_unique.drop_duplicates(subset =\"PID\", keep = \"first\", inplace = True) "
   ]
  },
  {
   "cell_type": "code",
   "execution_count": 12,
   "metadata": {},
   "outputs": [],
   "source": [
    "# Calculate Original values by deducting total changes for most recent forecast\n",
    "df_proj_unique[\"Original Budget\"]=df_proj_unique[\"Budget Forecast\"] - df_proj_unique[\"Total Budget Changes\"]\n",
    "df_proj_unique[\"Original Completion\"]=df_proj_unique[\"Forecast Completion\"] - pd.to_timedelta(df_proj_unique[\"Total Schedule Changes\"], unit=\"D\")\n",
    "df_proj_unique[\"Original Expected Duration\"]=(df_proj_unique[\"Original Completion\"] - df_proj_unique[\"Design Start\"])/pd.Timedelta(days=1)"
   ]
  },
  {
   "cell_type": "code",
   "execution_count": 13,
   "metadata": {},
   "outputs": [],
   "source": [
    "#Left join between original dataset and unique project dataset\n",
    "df_proj_new = pd.merge(df_proj,\n",
    "                 df_proj_unique[['PID','Original Budget', 'Original Completion', 'Original Expected Duration']],\n",
    "                 on='PID', \n",
    "                 how='left')"
   ]
  },
  {
   "cell_type": "code",
   "execution_count": 14,
   "metadata": {
    "scrolled": true
   },
   "outputs": [
    {
     "name": "stdout",
     "output_type": "stream",
     "text": [
      "Original dataset size: (2259, 16)\n",
      "New dataset size: (2259, 19)\n",
      "Unique project size: (378, 19)\n"
     ]
    }
   ],
   "source": [
    "print(f\"Original dataset size: {df_proj.shape}\\nNew dataset size: {df_proj_new.shape}\\nUnique project size: {df_proj_unique.shape}\")"
   ]
  },
  {
   "cell_type": "markdown",
   "metadata": {},
   "source": [
    "### 5. Fill in blank values for Latest Budget Changes and Latest Schedule Changes"
   ]
  },
  {
   "cell_type": "markdown",
   "metadata": {},
   "source": [
    "We observe that for some projects, their very first entry has NaN for latest budget and latest schedule changes. We fix that by assigning a 0 to those entries instead."
   ]
  },
  {
   "cell_type": "code",
   "execution_count": 15,
   "metadata": {},
   "outputs": [],
   "source": [
    "df_proj_new.loc[df_proj_new[\"Latest Budget Changes\"].isnull() & df_proj_new[\"Total Budget Changes\"].notnull(),[\"Latest Budget Changes\"]]=0"
   ]
  },
  {
   "cell_type": "code",
   "execution_count": 16,
   "metadata": {},
   "outputs": [],
   "source": [
    "df_proj_new.loc[df_proj_new[\"Latest Schedule Changes\"].isnull() & df_proj_new[\"Total Schedule Changes\"].notnull(),[\"Latest Schedule Changes\"]]=0"
   ]
  },
  {
   "cell_type": "markdown",
   "metadata": {},
   "source": [
    "### 6. Create Columns for Scaled Budget and Schedule Changes"
   ]
  },
  {
   "cell_type": "code",
   "execution_count": 17,
   "metadata": {},
   "outputs": [],
   "source": [
    "# Create columns for scaled budget and schedule changes, relative to original duration\n",
    "df_proj_new[\"Latest Budget Changes (Scaled to Original)\"] = df_proj_new[\"Latest Budget Changes\"] / df_proj_new[\"Original Budget\"]\n",
    "df_proj_new[\"Total Budget Changes (Scaled to Original)\"] = df_proj_new[\"Total Budget Changes\"] / df_proj_new[\"Original Budget\"]\n",
    "df_proj_new[\"Latest Schedule Changes (Scaled to Original)\"] = df_proj_new[\"Latest Schedule Changes\"] / df_proj_new[\"Original Expected Duration\"]\n",
    "df_proj_new[\"Total Schedule Changes (Scaled to Original)\"] = df_proj_new[\"Total Schedule Changes\"] / df_proj_new[\"Original Expected Duration\"]"
   ]
  },
  {
   "cell_type": "code",
   "execution_count": 18,
   "metadata": {},
   "outputs": [
    {
     "data": {
      "text/html": [
       "<div>\n",
       "<style scoped>\n",
       "    .dataframe tbody tr th:only-of-type {\n",
       "        vertical-align: middle;\n",
       "    }\n",
       "\n",
       "    .dataframe tbody tr th {\n",
       "        vertical-align: top;\n",
       "    }\n",
       "\n",
       "    .dataframe thead th {\n",
       "        text-align: right;\n",
       "    }\n",
       "</style>\n",
       "<table border=\"1\" class=\"dataframe\">\n",
       "  <thead>\n",
       "    <tr style=\"text-align: right;\">\n",
       "      <th></th>\n",
       "      <th>Date Reported As Of</th>\n",
       "      <th>PID</th>\n",
       "      <th>Project Name</th>\n",
       "      <th>Description</th>\n",
       "      <th>Category</th>\n",
       "      <th>Borough</th>\n",
       "      <th>Managing Agency</th>\n",
       "      <th>Client Agency</th>\n",
       "      <th>Current Phase</th>\n",
       "      <th>Design Start</th>\n",
       "      <th>Budget Forecast</th>\n",
       "      <th>Latest Budget Changes</th>\n",
       "      <th>Total Budget Changes</th>\n",
       "      <th>Forecast Completion</th>\n",
       "      <th>Latest Schedule Changes</th>\n",
       "      <th>Total Schedule Changes</th>\n",
       "      <th>Original Budget</th>\n",
       "      <th>Original Completion</th>\n",
       "      <th>Original Expected Duration</th>\n",
       "      <th>Latest Budget Changes (Scaled to Original)</th>\n",
       "      <th>Total Budget Changes (Scaled to Original)</th>\n",
       "      <th>Latest Schedule Changes (Scaled to Original)</th>\n",
       "      <th>Total Schedule Changes (Scaled to Original)</th>\n",
       "    </tr>\n",
       "  </thead>\n",
       "  <tbody>\n",
       "    <tr>\n",
       "      <th>0</th>\n",
       "      <td>2019-09-01</td>\n",
       "      <td>3</td>\n",
       "      <td>26th Ward Waste Water Treatment Plant Prelimin...</td>\n",
       "      <td>The 26th Ward WWTP is mandated to be upgraded ...</td>\n",
       "      <td>Wastewater Treatment</td>\n",
       "      <td>Brooklyn</td>\n",
       "      <td>DEP</td>\n",
       "      <td>DEP</td>\n",
       "      <td>Construction</td>\n",
       "      <td>2013-09-23</td>\n",
       "      <td>1.805777e+08</td>\n",
       "      <td>-4664980.0</td>\n",
       "      <td>-4318643.37</td>\n",
       "      <td>2020-10-09</td>\n",
       "      <td>0.0</td>\n",
       "      <td>270.0</td>\n",
       "      <td>184896360.0</td>\n",
       "      <td>2020-01-13</td>\n",
       "      <td>2303.0</td>\n",
       "      <td>-0.025230</td>\n",
       "      <td>-0.023357</td>\n",
       "      <td>0.000000</td>\n",
       "      <td>0.117238</td>\n",
       "    </tr>\n",
       "    <tr>\n",
       "      <th>1</th>\n",
       "      <td>2019-05-01</td>\n",
       "      <td>3</td>\n",
       "      <td>26th Ward Waste Water Treatment Plant Prelimin...</td>\n",
       "      <td>The 26th Ward WWTP is mandated to be upgraded ...</td>\n",
       "      <td>Wastewater Treatment</td>\n",
       "      <td>Brooklyn</td>\n",
       "      <td>DEP</td>\n",
       "      <td>DEP</td>\n",
       "      <td>Construction</td>\n",
       "      <td>2013-09-23</td>\n",
       "      <td>1.852427e+08</td>\n",
       "      <td>142978.0</td>\n",
       "      <td>-4318643.37</td>\n",
       "      <td>2020-10-09</td>\n",
       "      <td>42.0</td>\n",
       "      <td>270.0</td>\n",
       "      <td>184896360.0</td>\n",
       "      <td>2020-01-13</td>\n",
       "      <td>2303.0</td>\n",
       "      <td>0.000773</td>\n",
       "      <td>-0.023357</td>\n",
       "      <td>0.018237</td>\n",
       "      <td>0.117238</td>\n",
       "    </tr>\n",
       "    <tr>\n",
       "      <th>2</th>\n",
       "      <td>2019-01-01</td>\n",
       "      <td>3</td>\n",
       "      <td>26th Ward Waste Water Treatment Plant Prelimin...</td>\n",
       "      <td>The 26th Ward WWTP is mandated to be upgraded ...</td>\n",
       "      <td>Wastewater Treatment</td>\n",
       "      <td>Brooklyn</td>\n",
       "      <td>DEP</td>\n",
       "      <td>DEP</td>\n",
       "      <td>Construction</td>\n",
       "      <td>2013-09-23</td>\n",
       "      <td>1.850997e+08</td>\n",
       "      <td>8025707.0</td>\n",
       "      <td>-4318643.37</td>\n",
       "      <td>2020-08-28</td>\n",
       "      <td>31.0</td>\n",
       "      <td>270.0</td>\n",
       "      <td>184896360.0</td>\n",
       "      <td>2020-01-13</td>\n",
       "      <td>2303.0</td>\n",
       "      <td>0.043407</td>\n",
       "      <td>-0.023357</td>\n",
       "      <td>0.013461</td>\n",
       "      <td>0.117238</td>\n",
       "    </tr>\n",
       "  </tbody>\n",
       "</table>\n",
       "</div>"
      ],
      "text/plain": [
       "  Date Reported As Of  PID                                       Project Name                                        Description              Category   Borough Managing Agency Client Agency Current Phase Design Start  Budget Forecast  Latest Budget Changes  Total Budget Changes Forecast Completion  Latest Schedule Changes  Total Schedule Changes  Original Budget Original Completion  Original Expected Duration  Latest Budget Changes (Scaled to Original)  \\\n",
       "0          2019-09-01    3  26th Ward Waste Water Treatment Plant Prelimin...  The 26th Ward WWTP is mandated to be upgraded ...  Wastewater Treatment  Brooklyn             DEP           DEP  Construction   2013-09-23     1.805777e+08             -4664980.0           -4318643.37          2020-10-09                      0.0                   270.0      184896360.0          2020-01-13                      2303.0                                   -0.025230   \n",
       "1          2019-05-01    3  26th Ward Waste Water Treatment Plant Prelimin...  The 26th Ward WWTP is mandated to be upgraded ...  Wastewater Treatment  Brooklyn             DEP           DEP  Construction   2013-09-23     1.852427e+08               142978.0           -4318643.37          2020-10-09                     42.0                   270.0      184896360.0          2020-01-13                      2303.0                                    0.000773   \n",
       "2          2019-01-01    3  26th Ward Waste Water Treatment Plant Prelimin...  The 26th Ward WWTP is mandated to be upgraded ...  Wastewater Treatment  Brooklyn             DEP           DEP  Construction   2013-09-23     1.850997e+08              8025707.0           -4318643.37          2020-08-28                     31.0                   270.0      184896360.0          2020-01-13                      2303.0                                    0.043407   \n",
       "\n",
       "   Total Budget Changes (Scaled to Original)  Latest Schedule Changes (Scaled to Original)  Total Schedule Changes (Scaled to Original)  \n",
       "0                                  -0.023357                                      0.000000                                     0.117238  \n",
       "1                                  -0.023357                                      0.018237                                     0.117238  \n",
       "2                                  -0.023357                                      0.013461                                     0.117238  "
      ]
     },
     "execution_count": 18,
     "metadata": {},
     "output_type": "execute_result"
    }
   ],
   "source": [
    "df_proj_new.head(3)"
   ]
  },
  {
   "cell_type": "markdown",
   "metadata": {},
   "source": [
    "### 7. Create Columns for Total Budget and Schedule Change Frequencies (i.e. number of non-zero updates)"
   ]
  },
  {
   "cell_type": "code",
   "execution_count": 19,
   "metadata": {},
   "outputs": [],
   "source": [
    "budget_change = df_proj_new[df_proj_new[\"Latest Budget Changes\"]!=0].groupby(by=\"PID\")[\"Latest Budget Changes\"].count()\n",
    "budget_change = budget_change.rename(\"Total Frequency of Budget Changes\")\n",
    "df_proj_new = pd.merge(df_proj_new,\n",
    "                 budget_change,\n",
    "                 on='PID',\n",
    "                 how='left')"
   ]
  },
  {
   "cell_type": "code",
   "execution_count": 20,
   "metadata": {},
   "outputs": [],
   "source": [
    "schedule_change = df_proj_new[df_proj_new[\"Latest Schedule Changes\"]!=0].groupby(by=\"PID\")[\"Latest Schedule Changes\"].count()\n",
    "schedule_change = schedule_change.rename(\"Total Frequency of Schedule Changes\")\n",
    "df_proj_new = pd.merge(df_proj_new,\n",
    "                 schedule_change,\n",
    "                 on='PID',\n",
    "                 how='left')"
   ]
  },
  {
   "cell_type": "code",
   "execution_count": 21,
   "metadata": {},
   "outputs": [],
   "source": [
    "df_proj_new[\"Total Frequency of Budget Changes\"].fillna(0, inplace=True)\n",
    "df_proj_new[\"Total Frequency of Schedule Changes\"].fillna(0, inplace=True)"
   ]
  },
  {
   "cell_type": "code",
   "execution_count": 22,
   "metadata": {},
   "outputs": [
    {
     "data": {
      "text/plain": [
       "(2259, 25)"
      ]
     },
     "execution_count": 22,
     "metadata": {},
     "output_type": "execute_result"
    }
   ],
   "source": [
    "df_proj_new.shape"
   ]
  },
  {
   "cell_type": "markdown",
   "metadata": {},
   "source": [
    "### 8. Create Columns for Cumulative Budget and Schedule Changes as of Date Reported"
   ]
  },
  {
   "cell_type": "code",
   "execution_count": 23,
   "metadata": {},
   "outputs": [],
   "source": [
    "df_proj_new.sort_values(by=[\"PID\",\"Date Reported As Of\"],ascending=[True,True], inplace=True)"
   ]
  },
  {
   "cell_type": "code",
   "execution_count": 24,
   "metadata": {},
   "outputs": [],
   "source": [
    "df_proj_new[\"Cumulative Budget Changes ($)\"]=df_proj_new.groupby(by=\"PID\")[\"Latest Budget Changes\"].cumsum()\n",
    "df_proj_new[\"Cumulative Schedule Changes (days)\"]=df_proj_new.groupby(by=\"PID\")[\"Latest Schedule Changes\"].cumsum()"
   ]
  },
  {
   "cell_type": "code",
   "execution_count": 25,
   "metadata": {},
   "outputs": [],
   "source": [
    "df_proj_new.loc[df_proj_new[\"Latest Budget Changes\"] !=0, 'Budget_Change_Boolean'] = 1\n",
    "df_proj_new.loc[df_proj_new[\"Budget_Change_Boolean\"] !=1, 'Budget_Change_Boolean'] = 0\n",
    "df_proj_new.loc[df_proj_new[\"Latest Schedule Changes\"] !=0, 'Schedule_Change_Boolean'] = 1\n",
    "df_proj_new.loc[df_proj_new[\"Schedule_Change_Boolean\"] !=1, 'Schedule_Change_Boolean'] = 0"
   ]
  },
  {
   "cell_type": "code",
   "execution_count": 26,
   "metadata": {},
   "outputs": [],
   "source": [
    "df_proj_new[\"Cumulative Budget Changes (no. of times)\"]=df_proj_new.groupby(by=\"PID\")[\"Budget_Change_Boolean\"].cumsum()\n",
    "df_proj_new[\"Cumulative Schedule Changes (no. of times)\"]=df_proj_new.groupby(by=\"PID\")[\"Schedule_Change_Boolean\"].cumsum()"
   ]
  },
  {
   "cell_type": "code",
   "execution_count": 27,
   "metadata": {},
   "outputs": [
    {
     "name": "stdout",
     "output_type": "stream",
     "text": [
      "Original dataset size: (2259, 16)\n",
      "New dataset size: (2259, 31)\n"
     ]
    }
   ],
   "source": [
    "print(f\"Original dataset size: {df_proj.shape}\\nNew dataset size: {df_proj_new.shape}\")"
   ]
  },
  {
   "cell_type": "markdown",
   "metadata": {},
   "source": [
    "We see that now, by extracting additional meta-information on the projects, we are able to increase the number of variables from 16 to 31."
   ]
  },
  {
   "cell_type": "markdown",
   "metadata": {},
   "source": [
    "### 7. Create Dataset excluding Projects with Null Values for Budget and Schedule Changes"
   ]
  },
  {
   "cell_type": "markdown",
   "metadata": {},
   "source": [
    "There are projects for which there is insufficient data on budget and schedule. For those projects with missing total budget and schedule change information, we drop them, since they cannot be used for predictive purposes. With this we drop 65 entries."
   ]
  },
  {
   "cell_type": "code",
   "execution_count": 28,
   "metadata": {},
   "outputs": [],
   "source": [
    "#We create new columns to indicate if the budget and schedule changes are null. \n",
    "#We then find the sum of all values with the same PID.\n",
    "#For PIDs with values of 0, indicating all budget changes are null, we drop them\n",
    "df_proj_new.loc[df_proj_new[\"Latest Budget Changes\"].notnull(), 'Null_Budget_Change_Values'] = 1\n",
    "df_proj_new.loc[df_proj_new[\"Latest Budget Changes\"].isnull(), 'Null_Budget_Change_Values'] = 0\n",
    "df_proj_new.loc[df_proj_new[\"Latest Schedule Changes\"].notnull(), 'Null_Schedule_Change_Values'] = 1\n",
    "df_proj_new.loc[df_proj_new[\"Latest Schedule Changes\"].isnull(), 'Null_Schedule_Change_Values'] = 0"
   ]
  },
  {
   "cell_type": "code",
   "execution_count": 29,
   "metadata": {},
   "outputs": [],
   "source": [
    "df_proj_new['Sum_of_Budget_Nulls'] = df_proj_new.groupby('PID')['Null_Budget_Change_Values'].transform(np.sum)\n",
    "df_proj_new['Sum_of_Schedule_Nulls'] = df_proj_new.groupby('PID')['Null_Schedule_Change_Values'].transform(np.sum)\n",
    "df_proj_exclude_nulls=df_proj_new[(df_proj_new['Sum_of_Budget_Nulls']!=0) | (df_proj_new['Sum_of_Schedule_Nulls']!=0)]"
   ]
  },
  {
   "cell_type": "code",
   "execution_count": 30,
   "metadata": {},
   "outputs": [],
   "source": [
    "df_proj_new.drop(['Null_Budget_Change_Values', 'Null_Schedule_Change_Values', 'Sum_of_Budget_Nulls', 'Sum_of_Schedule_Nulls'], axis=1, inplace=True)\n",
    "df_proj_exclude_nulls = df_proj_exclude_nulls.drop(['Null_Budget_Change_Values', 'Null_Schedule_Change_Values', 'Sum_of_Budget_Nulls', 'Sum_of_Schedule_Nulls'], axis=1)"
   ]
  },
  {
   "cell_type": "code",
   "execution_count": 31,
   "metadata": {
    "scrolled": false
   },
   "outputs": [
    {
     "name": "stdout",
     "output_type": "stream",
     "text": [
      "New dataset size (all rows): (2259, 31)\n",
      "New dataset size (without nulls): (2194, 31)\n"
     ]
    }
   ],
   "source": [
    "print(f\"New dataset size (all rows): {df_proj_new.shape}\\nNew dataset size (without nulls): {df_proj_exclude_nulls.shape}\")"
   ]
  },
  {
   "cell_type": "code",
   "execution_count": 32,
   "metadata": {
    "scrolled": false
   },
   "outputs": [
    {
     "data": {
      "text/plain": [
       "Client Agency                                   602\n",
       "Borough                                         565\n",
       "Description                                      94\n",
       "Current Phase                                    93\n",
       "Latest Schedule Changes (Scaled to Original)     65\n",
       "Original Expected Duration                       65\n",
       "Total Schedule Changes (Scaled to Original)      65\n",
       "Design Start                                     58\n",
       "Original Completion                              24\n",
       "Forecast Completion                               9\n",
       "Cumulative Schedule Changes (days)                8\n",
       "Latest Schedule Changes                           8\n",
       "Total Schedule Changes                            8\n",
       "Latest Budget Changes (Scaled to Original)        1\n",
       "Category                                          0\n",
       "Budget Forecast                                   0\n",
       "Managing Agency                                   0\n",
       "Project Name                                      0\n",
       "PID                                               0\n",
       "Cumulative Schedule Changes (no. of times)        0\n",
       "Latest Budget Changes                             0\n",
       "Total Budget Changes                              0\n",
       "Cumulative Budget Changes (no. of times)          0\n",
       "Original Budget                                   0\n",
       "Total Budget Changes (Scaled to Original)         0\n",
       "Total Frequency of Budget Changes                 0\n",
       "Total Frequency of Schedule Changes               0\n",
       "Cumulative Budget Changes ($)                     0\n",
       "Budget_Change_Boolean                             0\n",
       "Schedule_Change_Boolean                           0\n",
       "Date Reported As Of                               0\n",
       "dtype: int64"
      ]
     },
     "execution_count": 32,
     "metadata": {},
     "output_type": "execute_result"
    }
   ],
   "source": [
    "df_proj_exclude_nulls.isnull().sum().sort_values(ascending=False)"
   ]
  },
  {
   "cell_type": "code",
   "execution_count": 33,
   "metadata": {},
   "outputs": [],
   "source": [
    "df_proj_exclude_nulls.to_csv(\"df_project_listing.csv\")"
   ]
  },
  {
   "cell_type": "code",
   "execution_count": 34,
   "metadata": {
    "scrolled": true
   },
   "outputs": [],
   "source": [
    "#Obtain first and last entry for each project\n",
    "df_proj_exclude_nulls[\"Latest_Report\"]=df_proj_exclude_nulls.groupby('PID')['Date Reported As Of'].transform(np.max)\n",
    "df_proj_exclude_nulls[\"Earliest_Report\"]=df_proj_exclude_nulls.groupby('PID')['Date Reported As Of'].transform(np.min)"
   ]
  },
  {
   "cell_type": "markdown",
   "metadata": {},
   "source": [
    "## Part II: Creating Snapshot by Project ID"
   ]
  },
  {
   "cell_type": "markdown",
   "metadata": {},
   "source": [
    "### 1. Create new dataset with one row for each Project ID (\"PID\")"
   ]
  },
  {
   "cell_type": "markdown",
   "metadata": {},
   "source": [
    "To understand the projects better, we investigate projects at a Project-Level by keeping the most recent (sorted by \"Date Reported As Of\") row for each project ID. This produces a dataframe with 378 rows, each corresponding to a unique PID."
   ]
  },
  {
   "cell_type": "code",
   "execution_count": 35,
   "metadata": {
    "scrolled": true
   },
   "outputs": [],
   "source": [
    "df_proj_unique_exclude_nulls = df_proj_exclude_nulls.copy()\n",
    "df_proj_unique_exclude_nulls.drop_duplicates(subset =\"PID\", keep = \"last\", inplace = True) "
   ]
  },
  {
   "cell_type": "code",
   "execution_count": 36,
   "metadata": {
    "scrolled": true
   },
   "outputs": [
    {
     "data": {
      "text/plain": [
       "(314, 33)"
      ]
     },
     "execution_count": 36,
     "metadata": {},
     "output_type": "execute_result"
    }
   ],
   "source": [
    "df_proj_unique_exclude_nulls.shape"
   ]
  },
  {
   "cell_type": "code",
   "execution_count": 37,
   "metadata": {},
   "outputs": [
    {
     "data": {
      "text/html": [
       "<div>\n",
       "<style scoped>\n",
       "    .dataframe tbody tr th:only-of-type {\n",
       "        vertical-align: middle;\n",
       "    }\n",
       "\n",
       "    .dataframe tbody tr th {\n",
       "        vertical-align: top;\n",
       "    }\n",
       "\n",
       "    .dataframe thead th {\n",
       "        text-align: right;\n",
       "    }\n",
       "</style>\n",
       "<table border=\"1\" class=\"dataframe\">\n",
       "  <thead>\n",
       "    <tr style=\"text-align: right;\">\n",
       "      <th></th>\n",
       "      <th>Date Reported As Of</th>\n",
       "      <th>PID</th>\n",
       "      <th>Project Name</th>\n",
       "      <th>Description</th>\n",
       "      <th>Category</th>\n",
       "      <th>Borough</th>\n",
       "      <th>Managing Agency</th>\n",
       "      <th>Client Agency</th>\n",
       "      <th>Current Phase</th>\n",
       "      <th>Design Start</th>\n",
       "      <th>Budget Forecast</th>\n",
       "      <th>Latest Budget Changes</th>\n",
       "      <th>Total Budget Changes</th>\n",
       "      <th>Forecast Completion</th>\n",
       "      <th>Latest Schedule Changes</th>\n",
       "      <th>Total Schedule Changes</th>\n",
       "      <th>Original Budget</th>\n",
       "      <th>Original Completion</th>\n",
       "      <th>Original Expected Duration</th>\n",
       "      <th>Latest Budget Changes (Scaled to Original)</th>\n",
       "      <th>Total Budget Changes (Scaled to Original)</th>\n",
       "      <th>Latest Schedule Changes (Scaled to Original)</th>\n",
       "      <th>Total Schedule Changes (Scaled to Original)</th>\n",
       "      <th>Total Frequency of Budget Changes</th>\n",
       "      <th>Total Frequency of Schedule Changes</th>\n",
       "      <th>Cumulative Budget Changes ($)</th>\n",
       "      <th>Cumulative Schedule Changes (days)</th>\n",
       "      <th>Budget_Change_Boolean</th>\n",
       "      <th>Schedule_Change_Boolean</th>\n",
       "      <th>Cumulative Budget Changes (no. of times)</th>\n",
       "      <th>Cumulative Schedule Changes (no. of times)</th>\n",
       "      <th>Latest_Report</th>\n",
       "      <th>Earliest_Report</th>\n",
       "    </tr>\n",
       "  </thead>\n",
       "  <tbody>\n",
       "    <tr>\n",
       "      <th>0</th>\n",
       "      <td>2019-09-01</td>\n",
       "      <td>3</td>\n",
       "      <td>26th Ward Waste Water Treatment Plant Prelimin...</td>\n",
       "      <td>The 26th Ward WWTP is mandated to be upgraded ...</td>\n",
       "      <td>Wastewater Treatment</td>\n",
       "      <td>Brooklyn</td>\n",
       "      <td>DEP</td>\n",
       "      <td>DEP</td>\n",
       "      <td>Construction</td>\n",
       "      <td>2013-09-23</td>\n",
       "      <td>1.805777e+08</td>\n",
       "      <td>-4664980.0</td>\n",
       "      <td>-4318643.37</td>\n",
       "      <td>2020-10-09</td>\n",
       "      <td>0.0</td>\n",
       "      <td>270.0</td>\n",
       "      <td>184896360.0</td>\n",
       "      <td>2020-01-13</td>\n",
       "      <td>2303.0</td>\n",
       "      <td>-0.025230</td>\n",
       "      <td>-0.023357</td>\n",
       "      <td>0.000000</td>\n",
       "      <td>0.117238</td>\n",
       "      <td>13.0</td>\n",
       "      <td>12.0</td>\n",
       "      <td>-4318643.0</td>\n",
       "      <td>270.0</td>\n",
       "      <td>1.0</td>\n",
       "      <td>0.0</td>\n",
       "      <td>13.0</td>\n",
       "      <td>12.0</td>\n",
       "      <td>2019-09-01</td>\n",
       "      <td>2014-05-01</td>\n",
       "    </tr>\n",
       "    <tr>\n",
       "      <th>13</th>\n",
       "      <td>2019-09-01</td>\n",
       "      <td>7</td>\n",
       "      <td>Bowery Bay Waste Water Treatment Plant Main Se...</td>\n",
       "      <td>The existing Main Sewage Pumps have deteriorat...</td>\n",
       "      <td>Wastewater Treatment</td>\n",
       "      <td>Queens</td>\n",
       "      <td>DEP</td>\n",
       "      <td>DEP</td>\n",
       "      <td>Construction</td>\n",
       "      <td>2013-05-01</td>\n",
       "      <td>6.879846e+07</td>\n",
       "      <td>1065884.0</td>\n",
       "      <td>15305457.00</td>\n",
       "      <td>2020-02-14</td>\n",
       "      <td>88.0</td>\n",
       "      <td>685.0</td>\n",
       "      <td>53493000.0</td>\n",
       "      <td>2018-03-31</td>\n",
       "      <td>1795.0</td>\n",
       "      <td>0.019926</td>\n",
       "      <td>0.286121</td>\n",
       "      <td>0.049025</td>\n",
       "      <td>0.381616</td>\n",
       "      <td>14.0</td>\n",
       "      <td>12.0</td>\n",
       "      <td>15305457.0</td>\n",
       "      <td>685.0</td>\n",
       "      <td>1.0</td>\n",
       "      <td>1.0</td>\n",
       "      <td>14.0</td>\n",
       "      <td>12.0</td>\n",
       "      <td>2019-09-01</td>\n",
       "      <td>2013-09-01</td>\n",
       "    </tr>\n",
       "    <tr>\n",
       "      <th>28</th>\n",
       "      <td>2019-09-01</td>\n",
       "      <td>18</td>\n",
       "      <td>Croton Falls Pumping Station Construction</td>\n",
       "      <td>This project will construct a new pumping stat...</td>\n",
       "      <td>Water Supply</td>\n",
       "      <td>Carmel</td>\n",
       "      <td>DEP</td>\n",
       "      <td>DEP</td>\n",
       "      <td>Construction</td>\n",
       "      <td>2003-08-22</td>\n",
       "      <td>6.787161e+07</td>\n",
       "      <td>-1399611.0</td>\n",
       "      <td>1255175.02</td>\n",
       "      <td>2020-03-10</td>\n",
       "      <td>91.0</td>\n",
       "      <td>1014.0</td>\n",
       "      <td>66616435.0</td>\n",
       "      <td>2017-05-31</td>\n",
       "      <td>5031.0</td>\n",
       "      <td>-0.021010</td>\n",
       "      <td>0.018842</td>\n",
       "      <td>0.018088</td>\n",
       "      <td>0.201550</td>\n",
       "      <td>13.0</td>\n",
       "      <td>8.0</td>\n",
       "      <td>1255174.0</td>\n",
       "      <td>1014.0</td>\n",
       "      <td>1.0</td>\n",
       "      <td>1.0</td>\n",
       "      <td>13.0</td>\n",
       "      <td>8.0</td>\n",
       "      <td>2019-09-01</td>\n",
       "      <td>2013-09-01</td>\n",
       "    </tr>\n",
       "  </tbody>\n",
       "</table>\n",
       "</div>"
      ],
      "text/plain": [
       "   Date Reported As Of  PID                                       Project Name                                        Description              Category   Borough Managing Agency Client Agency Current Phase Design Start  Budget Forecast  Latest Budget Changes  Total Budget Changes Forecast Completion  Latest Schedule Changes  Total Schedule Changes  Original Budget Original Completion  Original Expected Duration  Latest Budget Changes (Scaled to Original)  \\\n",
       "0           2019-09-01    3  26th Ward Waste Water Treatment Plant Prelimin...  The 26th Ward WWTP is mandated to be upgraded ...  Wastewater Treatment  Brooklyn             DEP           DEP  Construction   2013-09-23     1.805777e+08             -4664980.0           -4318643.37          2020-10-09                      0.0                   270.0      184896360.0          2020-01-13                      2303.0                                   -0.025230   \n",
       "13          2019-09-01    7  Bowery Bay Waste Water Treatment Plant Main Se...  The existing Main Sewage Pumps have deteriorat...  Wastewater Treatment    Queens             DEP           DEP  Construction   2013-05-01     6.879846e+07              1065884.0           15305457.00          2020-02-14                     88.0                   685.0       53493000.0          2018-03-31                      1795.0                                    0.019926   \n",
       "28          2019-09-01   18          Croton Falls Pumping Station Construction  This project will construct a new pumping stat...          Water Supply    Carmel             DEP           DEP  Construction   2003-08-22     6.787161e+07             -1399611.0            1255175.02          2020-03-10                     91.0                  1014.0       66616435.0          2017-05-31                      5031.0                                   -0.021010   \n",
       "\n",
       "    Total Budget Changes (Scaled to Original)  Latest Schedule Changes (Scaled to Original)  Total Schedule Changes (Scaled to Original)  Total Frequency of Budget Changes  Total Frequency of Schedule Changes  Cumulative Budget Changes ($)  Cumulative Schedule Changes (days)  Budget_Change_Boolean  Schedule_Change_Boolean  Cumulative Budget Changes (no. of times)  Cumulative Schedule Changes (no. of times) Latest_Report Earliest_Report  \n",
       "0                                   -0.023357                                      0.000000                                     0.117238                               13.0                                 12.0                     -4318643.0                               270.0                    1.0                      0.0                                      13.0                                        12.0    2019-09-01      2014-05-01  \n",
       "13                                   0.286121                                      0.049025                                     0.381616                               14.0                                 12.0                     15305457.0                               685.0                    1.0                      1.0                                      14.0                                        12.0    2019-09-01      2013-09-01  \n",
       "28                                   0.018842                                      0.018088                                     0.201550                               13.0                                  8.0                      1255174.0                              1014.0                    1.0                      1.0                                      13.0                                         8.0    2019-09-01      2013-09-01  "
      ]
     },
     "execution_count": 37,
     "metadata": {},
     "output_type": "execute_result"
    }
   ],
   "source": [
    "df_proj_unique_exclude_nulls.head(3)"
   ]
  },
  {
   "cell_type": "code",
   "execution_count": 38,
   "metadata": {},
   "outputs": [],
   "source": [
    "df_proj_unique_exclude_nulls.to_csv(\"df_project_unique.csv\")"
   ]
  },
  {
   "cell_type": "markdown",
   "metadata": {},
   "source": [
    "## Part III: Creating Time Series Data"
   ]
  },
  {
   "cell_type": "markdown",
   "metadata": {},
   "source": [
    "### 1. Create dataset with an entry for every month between the earliest and latest reporting date of a project"
   ]
  },
  {
   "cell_type": "markdown",
   "metadata": {},
   "source": [
    "For each month, we include budget and schedule changes only in cases where there were reports of budget/schedule changes. Otherwise we leave it as 0. This sequential data can be used for building sequential models."
   ]
  },
  {
   "cell_type": "code",
   "execution_count": 39,
   "metadata": {},
   "outputs": [],
   "source": [
    "df_time_series = df_proj_unique_exclude_nulls.copy().reset_index()"
   ]
  },
  {
   "cell_type": "code",
   "execution_count": 40,
   "metadata": {},
   "outputs": [],
   "source": [
    "#First we create a dictionary with each key representing a PID and value representing a Panda series containing range of dates\n",
    "#The range of dates is from the earliest date an entry was made to the latest date, with a monthly interval\n",
    "pid_dict={}\n",
    "\n",
    "for idx in range(len(df_time_series)):\n",
    "    pid_dict[df_time_series.loc[idx, [\"PID\"]].get(\"PID\")]=pd.date_range(df_time_series.loc[idx, [\"Earliest_Report\"]].get(\"Earliest_Report\"),df_time_series.loc[idx, [\"Latest_Report\"]].get(\"Latest_Report\"),freq=\"MS\") "
   ]
  },
  {
   "cell_type": "code",
   "execution_count": 41,
   "metadata": {},
   "outputs": [
    {
     "data": {
      "text/html": [
       "<div>\n",
       "<style scoped>\n",
       "    .dataframe tbody tr th:only-of-type {\n",
       "        vertical-align: middle;\n",
       "    }\n",
       "\n",
       "    .dataframe tbody tr th {\n",
       "        vertical-align: top;\n",
       "    }\n",
       "\n",
       "    .dataframe thead th {\n",
       "        text-align: right;\n",
       "    }\n",
       "</style>\n",
       "<table border=\"1\" class=\"dataframe\">\n",
       "  <thead>\n",
       "    <tr style=\"text-align: right;\">\n",
       "      <th></th>\n",
       "      <th>Date Reported As Of</th>\n",
       "      <th>PID</th>\n",
       "    </tr>\n",
       "  </thead>\n",
       "  <tbody>\n",
       "    <tr>\n",
       "      <th>0</th>\n",
       "      <td>2014-05-01</td>\n",
       "      <td>3</td>\n",
       "    </tr>\n",
       "    <tr>\n",
       "      <th>1</th>\n",
       "      <td>2014-06-01</td>\n",
       "      <td>3</td>\n",
       "    </tr>\n",
       "    <tr>\n",
       "      <th>2</th>\n",
       "      <td>2014-07-01</td>\n",
       "      <td>3</td>\n",
       "    </tr>\n",
       "    <tr>\n",
       "      <th>3</th>\n",
       "      <td>2014-08-01</td>\n",
       "      <td>3</td>\n",
       "    </tr>\n",
       "    <tr>\n",
       "      <th>4</th>\n",
       "      <td>2014-09-01</td>\n",
       "      <td>3</td>\n",
       "    </tr>\n",
       "    <tr>\n",
       "      <th>...</th>\n",
       "      <td>...</td>\n",
       "      <td>...</td>\n",
       "    </tr>\n",
       "    <tr>\n",
       "      <th>9548</th>\n",
       "      <td>2019-06-01</td>\n",
       "      <td>956</td>\n",
       "    </tr>\n",
       "    <tr>\n",
       "      <th>9549</th>\n",
       "      <td>2019-07-01</td>\n",
       "      <td>956</td>\n",
       "    </tr>\n",
       "    <tr>\n",
       "      <th>9550</th>\n",
       "      <td>2019-08-01</td>\n",
       "      <td>956</td>\n",
       "    </tr>\n",
       "    <tr>\n",
       "      <th>9551</th>\n",
       "      <td>2019-09-01</td>\n",
       "      <td>956</td>\n",
       "    </tr>\n",
       "    <tr>\n",
       "      <th>9552</th>\n",
       "      <td>2019-09-01</td>\n",
       "      <td>960</td>\n",
       "    </tr>\n",
       "  </tbody>\n",
       "</table>\n",
       "<p>9553 rows × 2 columns</p>\n",
       "</div>"
      ],
      "text/plain": [
       "     Date Reported As Of  PID\n",
       "0             2014-05-01    3\n",
       "1             2014-06-01    3\n",
       "2             2014-07-01    3\n",
       "3             2014-08-01    3\n",
       "4             2014-09-01    3\n",
       "...                  ...  ...\n",
       "9548          2019-06-01  956\n",
       "9549          2019-07-01  956\n",
       "9550          2019-08-01  956\n",
       "9551          2019-09-01  956\n",
       "9552          2019-09-01  960\n",
       "\n",
       "[9553 rows x 2 columns]"
      ]
     },
     "execution_count": 41,
     "metadata": {},
     "output_type": "execute_result"
    }
   ],
   "source": [
    "#We then create sequential data by appending each date range to a dataframe\n",
    "df_sequence = pd.DataFrame()\n",
    "\n",
    "for i in pid_dict.keys():\n",
    "    df_temp = pd.DataFrame()\n",
    "    df_temp[\"Date Reported As Of\"]=pid_dict[i]\n",
    "    df_temp[\"PID\"]=i\n",
    "    df_sequence = df_sequence.append(df_temp, ignore_index=True)\n",
    "df_sequence"
   ]
  },
  {
   "cell_type": "code",
   "execution_count": 42,
   "metadata": {},
   "outputs": [],
   "source": [
    "#This dataframe skeleton is then merged with the original data, including entries only in cases where there were reports\n",
    "df_sequence_new = pd.merge(df_sequence,\n",
    "                 df_proj_exclude_nulls[['PID',\"Date Reported As Of\", 'Latest Schedule Changes', \"Latest Schedule Changes (Scaled to Original)\", 'Latest Budget Changes', \"Latest Budget Changes (Scaled to Original)\"]],\n",
    "                 on=['PID',\"Date Reported As Of\"], \n",
    "                 how='left')\n",
    "\n",
    "#For months without entries (of which we should expect a lot), we fill them with 0 (assuming no changes with no reports)\n",
    "df_sequence_new = df_sequence_new.fillna(0)"
   ]
  },
  {
   "cell_type": "code",
   "execution_count": 43,
   "metadata": {},
   "outputs": [
    {
     "data": {
      "text/plain": [
       "(9553, 6)"
      ]
     },
     "execution_count": 43,
     "metadata": {},
     "output_type": "execute_result"
    }
   ],
   "source": [
    "df_sequence_new.shape"
   ]
  },
  {
   "cell_type": "code",
   "execution_count": 44,
   "metadata": {
    "scrolled": true
   },
   "outputs": [
    {
     "data": {
      "text/html": [
       "<div>\n",
       "<style scoped>\n",
       "    .dataframe tbody tr th:only-of-type {\n",
       "        vertical-align: middle;\n",
       "    }\n",
       "\n",
       "    .dataframe tbody tr th {\n",
       "        vertical-align: top;\n",
       "    }\n",
       "\n",
       "    .dataframe thead th {\n",
       "        text-align: right;\n",
       "    }\n",
       "</style>\n",
       "<table border=\"1\" class=\"dataframe\">\n",
       "  <thead>\n",
       "    <tr style=\"text-align: right;\">\n",
       "      <th></th>\n",
       "      <th>Date Reported As Of</th>\n",
       "      <th>PID</th>\n",
       "      <th>Latest Schedule Changes</th>\n",
       "      <th>Latest Schedule Changes (Scaled to Original)</th>\n",
       "      <th>Latest Budget Changes</th>\n",
       "      <th>Latest Budget Changes (Scaled to Original)</th>\n",
       "    </tr>\n",
       "  </thead>\n",
       "  <tbody>\n",
       "    <tr>\n",
       "      <th>0</th>\n",
       "      <td>2014-05-01</td>\n",
       "      <td>3</td>\n",
       "      <td>1.0</td>\n",
       "      <td>0.000434</td>\n",
       "      <td>-1915400.0</td>\n",
       "      <td>-0.010359</td>\n",
       "    </tr>\n",
       "    <tr>\n",
       "      <th>1</th>\n",
       "      <td>2014-06-01</td>\n",
       "      <td>3</td>\n",
       "      <td>0.0</td>\n",
       "      <td>0.000000</td>\n",
       "      <td>0.0</td>\n",
       "      <td>0.000000</td>\n",
       "    </tr>\n",
       "    <tr>\n",
       "      <th>2</th>\n",
       "      <td>2014-07-01</td>\n",
       "      <td>3</td>\n",
       "      <td>0.0</td>\n",
       "      <td>0.000000</td>\n",
       "      <td>0.0</td>\n",
       "      <td>0.000000</td>\n",
       "    </tr>\n",
       "    <tr>\n",
       "      <th>3</th>\n",
       "      <td>2014-08-01</td>\n",
       "      <td>3</td>\n",
       "      <td>0.0</td>\n",
       "      <td>0.000000</td>\n",
       "      <td>0.0</td>\n",
       "      <td>0.000000</td>\n",
       "    </tr>\n",
       "    <tr>\n",
       "      <th>4</th>\n",
       "      <td>2014-09-01</td>\n",
       "      <td>3</td>\n",
       "      <td>0.0</td>\n",
       "      <td>0.000000</td>\n",
       "      <td>0.0</td>\n",
       "      <td>0.000000</td>\n",
       "    </tr>\n",
       "    <tr>\n",
       "      <th>5</th>\n",
       "      <td>2014-10-01</td>\n",
       "      <td>3</td>\n",
       "      <td>0.0</td>\n",
       "      <td>0.000000</td>\n",
       "      <td>0.0</td>\n",
       "      <td>0.000000</td>\n",
       "    </tr>\n",
       "    <tr>\n",
       "      <th>6</th>\n",
       "      <td>2014-11-01</td>\n",
       "      <td>3</td>\n",
       "      <td>0.0</td>\n",
       "      <td>0.000000</td>\n",
       "      <td>0.0</td>\n",
       "      <td>0.000000</td>\n",
       "    </tr>\n",
       "    <tr>\n",
       "      <th>7</th>\n",
       "      <td>2014-12-01</td>\n",
       "      <td>3</td>\n",
       "      <td>0.0</td>\n",
       "      <td>0.000000</td>\n",
       "      <td>0.0</td>\n",
       "      <td>0.000000</td>\n",
       "    </tr>\n",
       "    <tr>\n",
       "      <th>8</th>\n",
       "      <td>2015-01-01</td>\n",
       "      <td>3</td>\n",
       "      <td>0.0</td>\n",
       "      <td>0.000000</td>\n",
       "      <td>0.0</td>\n",
       "      <td>0.000000</td>\n",
       "    </tr>\n",
       "    <tr>\n",
       "      <th>9</th>\n",
       "      <td>2015-02-01</td>\n",
       "      <td>3</td>\n",
       "      <td>187.0</td>\n",
       "      <td>0.081198</td>\n",
       "      <td>-14229191.0</td>\n",
       "      <td>-0.076958</td>\n",
       "    </tr>\n",
       "  </tbody>\n",
       "</table>\n",
       "</div>"
      ],
      "text/plain": [
       "  Date Reported As Of  PID  Latest Schedule Changes  Latest Schedule Changes (Scaled to Original)  Latest Budget Changes  Latest Budget Changes (Scaled to Original)\n",
       "0          2014-05-01    3                      1.0                                      0.000434             -1915400.0                                   -0.010359\n",
       "1          2014-06-01    3                      0.0                                      0.000000                    0.0                                    0.000000\n",
       "2          2014-07-01    3                      0.0                                      0.000000                    0.0                                    0.000000\n",
       "3          2014-08-01    3                      0.0                                      0.000000                    0.0                                    0.000000\n",
       "4          2014-09-01    3                      0.0                                      0.000000                    0.0                                    0.000000\n",
       "5          2014-10-01    3                      0.0                                      0.000000                    0.0                                    0.000000\n",
       "6          2014-11-01    3                      0.0                                      0.000000                    0.0                                    0.000000\n",
       "7          2014-12-01    3                      0.0                                      0.000000                    0.0                                    0.000000\n",
       "8          2015-01-01    3                      0.0                                      0.000000                    0.0                                    0.000000\n",
       "9          2015-02-01    3                    187.0                                      0.081198            -14229191.0                                   -0.076958"
      ]
     },
     "execution_count": 44,
     "metadata": {},
     "output_type": "execute_result"
    }
   ],
   "source": [
    "df_sequence_new.head(10)"
   ]
  },
  {
   "cell_type": "code",
   "execution_count": 45,
   "metadata": {},
   "outputs": [],
   "source": [
    "df_sequence_new.to_csv(\"df_sequence.csv\")"
   ]
  }
 ],
 "metadata": {
  "kernelspec": {
   "display_name": "Python 3",
   "language": "python",
   "name": "python3"
  },
  "language_info": {
   "codemirror_mode": {
    "name": "ipython",
    "version": 3
   },
   "file_extension": ".py",
   "mimetype": "text/x-python",
   "name": "python",
   "nbconvert_exporter": "python",
   "pygments_lexer": "ipython3",
   "version": "3.7.7"
  }
 },
 "nbformat": 4,
 "nbformat_minor": 4
}
