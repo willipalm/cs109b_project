{
 "cells": [
  {
   "cell_type": "code",
   "execution_count": 1,
   "metadata": {},
   "outputs": [
    {
     "name": "stderr",
     "output_type": "stream",
     "text": [
      "WARNING (theano.configdefaults): g++ not available, if using conda: `conda install m2w64-toolchain`\n",
      "C:\\Users\\pelan\\Anaconda3\\lib\\site-packages\\theano\\configdefaults.py:560: UserWarning: DeprecationWarning: there is no c++ compiler.This is deprecated and with Theano 0.11 a c++ compiler will be mandatory\n",
      "  warnings.warn(\"DeprecationWarning: there is no c++ compiler.\"\n",
      "WARNING (theano.configdefaults): g++ not detected ! Theano will be unable to execute optimized C-implementations (for both CPU and GPU) and will default to Python implementations. Performance will be severely degraded. To remove this warning, set Theano flags cxx to an empty string.\n",
      "WARNING (theano.tensor.blas): Using NumPy C-API based implementation for BLAS functions.\n"
     ]
    }
   ],
   "source": [
    "import pandas as pd\n",
    "import numpy as np\n",
    "import matplotlib.pyplot as plt\n",
    "import pymc3 as pm"
   ]
  },
  {
   "cell_type": "markdown",
   "metadata": {},
   "source": [
    "## Data processing\n",
    "\n",
    "We turn the dataset of the business case into predictors and labels."
   ]
  },
  {
   "cell_type": "code",
   "execution_count": 2,
   "metadata": {},
   "outputs": [
    {
     "data": {
      "text/html": [
       "<div>\n",
       "<style scoped>\n",
       "    .dataframe tbody tr th:only-of-type {\n",
       "        vertical-align: middle;\n",
       "    }\n",
       "\n",
       "    .dataframe tbody tr th {\n",
       "        vertical-align: top;\n",
       "    }\n",
       "\n",
       "    .dataframe thead th {\n",
       "        text-align: right;\n",
       "    }\n",
       "</style>\n",
       "<table border=\"1\" class=\"dataframe\">\n",
       "  <thead>\n",
       "    <tr style=\"text-align: right;\">\n",
       "      <th></th>\n",
       "      <th>Project No.</th>\n",
       "      <th>Project Title</th>\n",
       "      <th>Design Schedule and Completion Date</th>\n",
       "      <th>Design Actual Completion Date</th>\n",
       "      <th>Title Request</th>\n",
       "      <th>Construction Registered Amount</th>\n",
       "      <th>Total Budget</th>\n",
       "      <th>Registration Approved; Pending Order-to- Work Date</th>\n",
       "      <th>Scheduled Completion Date</th>\n",
       "      <th>Final Inspection</th>\n",
       "      <th>...</th>\n",
       "      <th>Engineering</th>\n",
       "      <th>Environmental Control Unit</th>\n",
       "      <th>Manhattan Team</th>\n",
       "      <th>Queens Team</th>\n",
       "      <th>Requirements Contract Unit</th>\n",
       "      <th>Staten Island Team</th>\n",
       "      <th>Technical Services (Randalls Island)</th>\n",
       "      <th>Tree Unit</th>\n",
       "      <th>Days Late</th>\n",
       "      <th>Cost Escalations</th>\n",
       "    </tr>\n",
       "  </thead>\n",
       "  <tbody>\n",
       "    <tr>\n",
       "      <th>0</th>\n",
       "      <td>B002-101M</td>\n",
       "      <td>AMERSFORT PARK RECONSTRUCTION</td>\n",
       "      <td>15/12/2000</td>\n",
       "      <td>22/02/2001</td>\n",
       "      <td>08/09/2000</td>\n",
       "      <td>$572 915.00</td>\n",
       "      <td>$710 000.00</td>\n",
       "      <td>18/06/2001</td>\n",
       "      <td>14/12/2001</td>\n",
       "      <td>28/01/2002</td>\n",
       "      <td>...</td>\n",
       "      <td>0</td>\n",
       "      <td>0</td>\n",
       "      <td>0</td>\n",
       "      <td>0</td>\n",
       "      <td>0</td>\n",
       "      <td>0</td>\n",
       "      <td>0</td>\n",
       "      <td>0</td>\n",
       "      <td>45</td>\n",
       "      <td>0.239276</td>\n",
       "    </tr>\n",
       "    <tr>\n",
       "      <th>1</th>\n",
       "      <td>B002-199</td>\n",
       "      <td>AMERSFORT PARK - GAZEBO &amp; SPRAY FEATURE</td>\n",
       "      <td>08/02/2000</td>\n",
       "      <td>06/03/2000</td>\n",
       "      <td>16/06/1999</td>\n",
       "      <td>$666 792.00</td>\n",
       "      <td>$933 000.00</td>\n",
       "      <td>28/08/2000</td>\n",
       "      <td>23/02/2001</td>\n",
       "      <td>24/10/2001</td>\n",
       "      <td>...</td>\n",
       "      <td>0</td>\n",
       "      <td>0</td>\n",
       "      <td>0</td>\n",
       "      <td>0</td>\n",
       "      <td>0</td>\n",
       "      <td>0</td>\n",
       "      <td>0</td>\n",
       "      <td>0</td>\n",
       "      <td>243</td>\n",
       "      <td>0.399237</td>\n",
       "    </tr>\n",
       "    <tr>\n",
       "      <th>2</th>\n",
       "      <td>B008-101M</td>\n",
       "      <td>BETSY HEAD PLGD - INSTALL RECREATIONAL LIGHTIN...</td>\n",
       "      <td>15/03/2001</td>\n",
       "      <td>11/04/2001</td>\n",
       "      <td>20/11/2000</td>\n",
       "      <td>$499 619.00</td>\n",
       "      <td>$650 000.00</td>\n",
       "      <td>10/09/2001</td>\n",
       "      <td>06/06/2002</td>\n",
       "      <td>04/06/2002</td>\n",
       "      <td>...</td>\n",
       "      <td>0</td>\n",
       "      <td>0</td>\n",
       "      <td>0</td>\n",
       "      <td>0</td>\n",
       "      <td>0</td>\n",
       "      <td>0</td>\n",
       "      <td>0</td>\n",
       "      <td>0</td>\n",
       "      <td>-2</td>\n",
       "      <td>0.300991</td>\n",
       "    </tr>\n",
       "    <tr>\n",
       "      <th>3</th>\n",
       "      <td>B008-199</td>\n",
       "      <td>BETSY HEAD PLAYGROUND - RUNNING TRACK</td>\n",
       "      <td>31/03/1999</td>\n",
       "      <td>19/04/1999</td>\n",
       "      <td>10/08/1998</td>\n",
       "      <td>$915 549.00</td>\n",
       "      <td>$1 186 000.00</td>\n",
       "      <td>18/08/1999</td>\n",
       "      <td>23/05/2000</td>\n",
       "      <td>07/05/2001</td>\n",
       "      <td>...</td>\n",
       "      <td>0</td>\n",
       "      <td>0</td>\n",
       "      <td>0</td>\n",
       "      <td>0</td>\n",
       "      <td>0</td>\n",
       "      <td>0</td>\n",
       "      <td>0</td>\n",
       "      <td>0</td>\n",
       "      <td>349</td>\n",
       "      <td>0.295398</td>\n",
       "    </tr>\n",
       "    <tr>\n",
       "      <th>4</th>\n",
       "      <td>B012-102M</td>\n",
       "      <td>BROWER PARK - RECONSTR. OF A PORTION OF PLAYGR...</td>\n",
       "      <td>28/12/2001</td>\n",
       "      <td>01/03/2002</td>\n",
       "      <td>17/08/2001</td>\n",
       "      <td>$602 129.00</td>\n",
       "      <td>$813 000.00</td>\n",
       "      <td>15/10/2002</td>\n",
       "      <td>09/10/2003</td>\n",
       "      <td>21/10/2003</td>\n",
       "      <td>...</td>\n",
       "      <td>0</td>\n",
       "      <td>0</td>\n",
       "      <td>0</td>\n",
       "      <td>0</td>\n",
       "      <td>0</td>\n",
       "      <td>0</td>\n",
       "      <td>0</td>\n",
       "      <td>0</td>\n",
       "      <td>12</td>\n",
       "      <td>0.350209</td>\n",
       "    </tr>\n",
       "  </tbody>\n",
       "</table>\n",
       "<p>5 rows × 37 columns</p>\n",
       "</div>"
      ],
      "text/plain": [
       "  Project No.                                       Project Title  \\\n",
       "0    B002-101M                      AMERSFORT PARK RECONSTRUCTION   \n",
       "1     B002-199            AMERSFORT PARK - GAZEBO & SPRAY FEATURE   \n",
       "2    B008-101M  BETSY HEAD PLGD - INSTALL RECREATIONAL LIGHTIN...   \n",
       "3     B008-199              BETSY HEAD PLAYGROUND - RUNNING TRACK   \n",
       "4    B012-102M  BROWER PARK - RECONSTR. OF A PORTION OF PLAYGR...   \n",
       "\n",
       "  Design Schedule and Completion Date Design Actual Completion Date   \\\n",
       "0                          15/12/2000                     22/02/2001   \n",
       "1                          08/02/2000                     06/03/2000   \n",
       "2                          15/03/2001                     11/04/2001   \n",
       "3                          31/03/1999                     19/04/1999   \n",
       "4                          28/12/2001                     01/03/2002   \n",
       "\n",
       "  Title Request  Construction Registered Amount     Total Budget  \\\n",
       "0     08/09/2000                    $572 915.00     $710 000.00    \n",
       "1     16/06/1999                    $666 792.00     $933 000.00    \n",
       "2     20/11/2000                    $499 619.00     $650 000.00    \n",
       "3     10/08/1998                    $915 549.00   $1 186 000.00    \n",
       "4     17/08/2001                    $602 129.00     $813 000.00    \n",
       "\n",
       "  Registration Approved; Pending Order-to- Work Date  \\\n",
       "0                                         18/06/2001   \n",
       "1                                         28/08/2000   \n",
       "2                                         10/09/2001   \n",
       "3                                         18/08/1999   \n",
       "4                                         15/10/2002   \n",
       "\n",
       "  Scheduled Completion Date  Final Inspection   ... Engineering  \\\n",
       "0                 14/12/2001        28/01/2002  ...           0   \n",
       "1                 23/02/2001        24/10/2001  ...           0   \n",
       "2                 06/06/2002        04/06/2002  ...           0   \n",
       "3                 23/05/2000        07/05/2001  ...           0   \n",
       "4                 09/10/2003        21/10/2003  ...           0   \n",
       "\n",
       "   Environmental Control Unit Manhattan Team  Queens Team  \\\n",
       "0                           0              0            0   \n",
       "1                           0              0            0   \n",
       "2                           0              0            0   \n",
       "3                           0              0            0   \n",
       "4                           0              0            0   \n",
       "\n",
       "   Requirements Contract Unit  Staten Island Team  \\\n",
       "0                           0                   0   \n",
       "1                           0                   0   \n",
       "2                           0                   0   \n",
       "3                           0                   0   \n",
       "4                           0                   0   \n",
       "\n",
       "   Technical Services (Randalls Island)  Tree Unit  Days Late  \\\n",
       "0                                     0          0         45   \n",
       "1                                     0          0        243   \n",
       "2                                     0          0         -2   \n",
       "3                                     0          0        349   \n",
       "4                                     0          0         12   \n",
       "\n",
       "   Cost Escalations  \n",
       "0          0.239276  \n",
       "1          0.399237  \n",
       "2          0.300991  \n",
       "3          0.295398  \n",
       "4          0.350209  \n",
       "\n",
       "[5 rows x 37 columns]"
      ]
     },
     "execution_count": 2,
     "metadata": {},
     "output_type": "execute_result"
    }
   ],
   "source": [
    "ds = pd.read_csv('projects business case.csv', delimiter=';')\n",
    "ds.head()"
   ]
  },
  {
   "cell_type": "code",
   "execution_count": 10,
   "metadata": {
    "scrolled": true
   },
   "outputs": [
    {
     "data": {
      "text/plain": [
       "Index(['Project No. ', 'Project Title', 'Design Schedule and Completion Date',\n",
       "       'Design Actual Completion Date ', 'Title Request ',\n",
       "       'Construction Registered Amount ', 'Total Budget',\n",
       "       'Registration Approved; Pending Order-to- Work Date',\n",
       "       'Scheduled Completion Date ', 'Final Inspection ', 'Status ',\n",
       "       'Construction Unit', 'Coded Unit', 'ln(cost)', 'Electrical', 'Tree',\n",
       "       'Landscape', 'Plumbing', 'Park', 'Station', 'Playground',\n",
       "       'Architecture', 'Bronx Team', 'Brooklyn Team',\n",
       "       'Construction Project Manager', 'Construction Resources', 'Croton Unit',\n",
       "       'Engineering', ' Environmental Control Unit', 'Manhattan Team',\n",
       "       'Queens Team', 'Requirements Contract Unit', 'Staten Island Team',\n",
       "       'Technical Services (Randalls Island)', 'Tree Unit', 'Days Late',\n",
       "       'Cost Escalations'],\n",
       "      dtype='object')"
      ]
     },
     "execution_count": 10,
     "metadata": {},
     "output_type": "execute_result"
    }
   ],
   "source": [
    "ds.columns"
   ]
  },
  {
   "cell_type": "markdown",
   "metadata": {},
   "source": [
    "In this part, we use direclty the features which have been already processed by Pr. Yael Grushka-Cockayne. "
   ]
  },
  {
   "cell_type": "code",
   "execution_count": 3,
   "metadata": {},
   "outputs": [],
   "source": [
    "#Splitting between predictors and labels\n",
    "X = ds[['ln(cost)', 'Electrical', 'Tree',\n",
    "       'Landscape', 'Plumbing', 'Park', 'Station', 'Playground',\n",
    "       'Architecture', 'Bronx Team', 'Brooklyn Team',\n",
    "       'Construction Project Manager', 'Construction Resources', 'Croton Unit',\n",
    "       'Engineering', ' Environmental Control Unit', 'Manhattan Team',\n",
    "       'Queens Team', 'Requirements Contract Unit', 'Staten Island Team',\n",
    "       'Technical Services (Randalls Island)', 'Tree Unit']].values\n",
    "y = ds[['Days Late',\n",
    "       'Cost Escalations']].values"
   ]
  },
  {
   "cell_type": "code",
   "execution_count": 4,
   "metadata": {},
   "outputs": [],
   "source": [
    "from sklearn.model_selection import train_test_split\n",
    "\n",
    "X_train, X_test, y_train, y_test = train_test_split(X, y, test_size=0.3, random_state=42)"
   ]
  },
  {
   "cell_type": "markdown",
   "metadata": {},
   "source": [
    "## Short EDA on the business case dataset"
   ]
  },
  {
   "cell_type": "code",
   "execution_count": 6,
   "metadata": {},
   "outputs": [
    {
     "data": {
      "text/plain": [
       "Text(0.5, 1.0, 'Number of days late vs the logarithm of the cost of a project')"
      ]
     },
     "execution_count": 6,
     "metadata": {},
     "output_type": "execute_result"
    },
    {
     "data": {
      "image/png": "[encoded data removed]",
      "text/plain": [
       "<Figure size 432x288 with 1 Axes>"
      ]
     },
     "metadata": {
      "needs_background": "light"
     },
     "output_type": "display_data"
    }
   ],
   "source": [
    "plt.scatter(ds['ln(cost)'], ds['Days Late'])\n",
    "plt.xlabel('ln(cost)')\n",
    "plt.ylabel('Number of Days')\n",
    "plt.title('Number of days late vs the logarithm of the cost of a project')"
   ]
  },
  {
   "cell_type": "code",
   "execution_count": 7,
   "metadata": {},
   "outputs": [
    {
     "data": {
      "text/plain": [
       "Text(0.5, 1.0, 'Cost escalation vs the logarithm of the cost of a project')"
      ]
     },
     "execution_count": 7,
     "metadata": {},
     "output_type": "execute_result"
    },
    {
     "data": {
      "image/png": "[encoded data removed]",
      "text/plain": [
       "<Figure size 432x288 with 1 Axes>"
      ]
     },
     "metadata": {
      "needs_background": "light"
     },
     "output_type": "display_data"
    }
   ],
   "source": [
    "plt.scatter(ds['ln(cost)'], ds['Cost Escalations'])\n",
    "plt.xlabel('ln(cost)')\n",
    "plt.ylabel('Cost Escalations (% of initial cost)')\n",
    "plt.title('Cost escalation vs the logarithm of the cost of a project')"
   ]
  },
  {
   "cell_type": "code",
   "execution_count": 9,
   "metadata": {},
   "outputs": [
    {
     "name": "stdout",
     "output_type": "stream",
     "text": [
      "number of predictors: 22\n",
      "number of binary predictors: 21\n",
      "number of different combinations of the 21 binary categories: 155\n"
     ]
    }
   ],
   "source": [
    "print('number of predictors:',X.shape[1])\n",
    "print('number of binary predictors:', 21)\n",
    "print('number of different combinations of the 21 binary categories:', np.unique(X[:,1:], axis=0).shape[0])"
   ]
  },
  {
   "cell_type": "markdown",
   "metadata": {},
   "source": [
    "## Baseline model: linear regression\n",
    "\n",
    "We begin by fitting a linear regression to get a baseline model. We begin by normalizing the predictors and labels.\n",
    "\n",
    "### Linear Regression"
   ]
  },
  {
   "cell_type": "code",
   "execution_count": 12,
   "metadata": {},
   "outputs": [],
   "source": [
    "#find the max\n",
    "y_max= np.max(np.abs(y_train),axis=0 )\n",
    "x_max=np.max(np.abs(X_train[:,0]))\n",
    "\n",
    "#normalize\n",
    "X_train[:,0] = X_train[:,0]/x_max\n",
    "X_test[:,0] = X_test[:,0]/x_max\n",
    "\n",
    "y_train=y_train/y_max\n",
    "y_test=y_test/y_max"
   ]
  },
  {
   "cell_type": "code",
   "execution_count": 17,
   "metadata": {},
   "outputs": [
    {
     "name": "stderr",
     "output_type": "stream",
     "text": [
      "C:\\Users\\pelan\\Anaconda3\\lib\\site-packages\\sklearn\\base.py:420: FutureWarning: The default value of multioutput (not exposed in score method) will change from 'variance_weighted' to 'uniform_average' in 0.23 to keep consistent with 'metrics.r2_score'. To specify the default value manually and avoid the warning, please either call 'metrics.r2_score' directly or make a custom scorer with 'metrics.make_scorer' (the built-in scorer 'r2' uses multioutput='uniform_average').\n",
      "  \"multioutput='uniform_average').\", FutureWarning)\n"
     ]
    },
    {
     "name": "stdout",
     "output_type": "stream",
     "text": [
      "R2 score of linear regression: 0.2685748593929636\n"
     ]
    },
    {
     "name": "stderr",
     "output_type": "stream",
     "text": [
      "C:\\Users\\pelan\\Anaconda3\\lib\\site-packages\\sklearn\\base.py:420: FutureWarning: The default value of multioutput (not exposed in score method) will change from 'variance_weighted' to 'uniform_average' in 0.23 to keep consistent with 'metrics.r2_score'. To specify the default value manually and avoid the warning, please either call 'metrics.r2_score' directly or make a custom scorer with 'metrics.make_scorer' (the built-in scorer 'r2' uses multioutput='uniform_average').\n",
      "  \"multioutput='uniform_average').\", FutureWarning)\n"
     ]
    },
    {
     "name": "stdout",
     "output_type": "stream",
     "text": [
      "R2 score of Ridge regression: 0.2687327758032421\n"
     ]
    }
   ],
   "source": [
    "from sklearn.linear_model import LinearRegression\n",
    "reg = LinearRegression().fit(X_train, y_train)\n",
    "print('R2 score of linear regression:', reg.score(X_test, y_test))\n",
    "\n",
    "#Ridge\n",
    "from sklearn.linear_model import Ridge\n",
    "ridge= Ridge(alpha=0.1).fit(X_train, y_train)\n",
    "print('R2 score of Ridge regression:',ridge.score(X_test, y_test))"
   ]
  },
  {
   "cell_type": "markdown",
   "metadata": {},
   "source": [
    "We notice that L1 and L2 penalization do not really improve the model performances. We are going to add interactions terms to have a slope (cost escalation/ln(cost) or days late/ln(cost) ) that would vary depending on the binary categories.\n",
    "\n",
    "### Regression with interaction terms"
   ]
  },
  {
   "cell_type": "code",
   "execution_count": 18,
   "metadata": {},
   "outputs": [],
   "source": [
    "#add intereaction terms between categories and cost\n",
    "X_train_int = np.zeros((X_train.shape[0], 22+21))\n",
    "X_test_int = np.zeros((X_test.shape[0], 22+21))\n",
    "\n",
    "X_train_int[:,0:22]=X_train\n",
    "X_test_int[:,0:22]=X_test\n",
    "for k in range(21):\n",
    "    X_train_int[:,22+k] = X_train[:,0]*X_train[:,1+k]\n",
    "    X_test_int[:,22+k] = X_test[:,0]*X_test[:,1+k]"
   ]
  },
  {
   "cell_type": "code",
   "execution_count": 19,
   "metadata": {},
   "outputs": [
    {
     "name": "stderr",
     "output_type": "stream",
     "text": [
      "C:\\Users\\pelan\\Anaconda3\\lib\\site-packages\\sklearn\\base.py:420: FutureWarning: The default value of multioutput (not exposed in score method) will change from 'variance_weighted' to 'uniform_average' in 0.23 to keep consistent with 'metrics.r2_score'. To specify the default value manually and avoid the warning, please either call 'metrics.r2_score' directly or make a custom scorer with 'metrics.make_scorer' (the built-in scorer 'r2' uses multioutput='uniform_average').\n",
      "  \"multioutput='uniform_average').\", FutureWarning)\n"
     ]
    },
    {
     "data": {
      "text/plain": [
       "0.2688541906089443"
      ]
     },
     "execution_count": 19,
     "metadata": {},
     "output_type": "execute_result"
    }
   ],
   "source": [
    "reg_int = LinearRegression().fit(X_train_int, y_train)\n",
    "reg_int.score(X_test_int, y_test)"
   ]
  },
  {
   "cell_type": "code",
   "execution_count": 20,
   "metadata": {},
   "outputs": [
    {
     "name": "stderr",
     "output_type": "stream",
     "text": [
      "C:\\Users\\pelan\\Anaconda3\\lib\\site-packages\\sklearn\\base.py:420: FutureWarning: The default value of multioutput (not exposed in score method) will change from 'variance_weighted' to 'uniform_average' in 0.23 to keep consistent with 'metrics.r2_score'. To specify the default value manually and avoid the warning, please either call 'metrics.r2_score' directly or make a custom scorer with 'metrics.make_scorer' (the built-in scorer 'r2' uses multioutput='uniform_average').\n",
      "  \"multioutput='uniform_average').\", FutureWarning)\n"
     ]
    },
    {
     "data": {
      "text/plain": [
       "0.270680405857353"
      ]
     },
     "execution_count": 20,
     "metadata": {},
     "output_type": "execute_result"
    }
   ],
   "source": [
    "ridge_int = Ridge(1).fit(X_train_int, y_train)\n",
    "ridge_int.score(X_test_int, y_test)"
   ]
  },
  {
   "cell_type": "markdown",
   "metadata": {},
   "source": [
    "The linear regression is a very simple model and underfit the data. "
   ]
  },
  {
   "cell_type": "markdown",
   "metadata": {},
   "source": [
    "## Bayesian Linear Regression\n",
    "\n",
    "A Bayesian model can be very interesting for prediction with a high level of uncertainty. It can give us confidence margins. Instead of predicting the exacts labels, we can output the distribution of the labels. Hence project managers or other stakeholders will have a sense of the range of days and cost escalations of a project. To do so we use the pymc3 package and give a prior distribution to the different parameters of the linear regression. Because sampling algorithms are very long to run, we begin by reducing the dimension with a PCA."
   ]
  },
  {
   "cell_type": "code",
   "execution_count": 22,
   "metadata": {},
   "outputs": [
    {
     "name": "stdout",
     "output_type": "stream",
     "text": [
      "Ratio of explained variance: 0.7841774050434203\n"
     ]
    }
   ],
   "source": [
    "#PCA to reduce the number of features and accelerate the tuning of the bayesian linear regression\n",
    "from sklearn.decomposition import PCA\n",
    "pca=PCA(n_components=8).fit(X_train_int)\n",
    "print('Ratio of explained variance:', np.sum(pca.explained_variance_ratio_))\n",
    "\n",
    "#transforming the data\n",
    "X_train_pca = pca.transform(X_train_int)\n",
    "X_test_pca = pca.transform(X_test_int)"
   ]
  },
  {
   "cell_type": "code",
   "execution_count": 138,
   "metadata": {},
   "outputs": [
    {
     "name": "stderr",
     "output_type": "stream",
     "text": [
      "Only 200 samples in chain.\n",
      "Auto-assigning NUTS sampler...\n",
      "Initializing NUTS using jitter+adapt_diag...\n",
      "Multiprocess sampling (2 chains in 2 jobs)\n",
      "NUTS: [sd, x[7], x[6], x[5], x[4], x[3], x[2], x[1], x[0], Intercept]\n",
      "Sampling 2 chains: 100%|██████████████████████████████████████████████████████████| 600/600 [14:47<00:00,  1.48s/draws]\n",
      "The acceptance probability does not match the target. It is 0.8807986126300615, but should be close to 0.8. Try to increase the number of tuning steps.\n",
      "The number of effective samples is smaller than 25% for some parameters.\n"
     ]
    }
   ],
   "source": [
    "#Bayesian linear regression fitting and sampling for the number of late days\n",
    "\n",
    "data = dict(x=X_train_pca, y=y_train[:,0])\n",
    "with pm.Model() as model_days:\n",
    "    pm.glm.GLM.from_formula('y ~ x', data)\n",
    "    trace = pm.sample(200, tune=100)\n",
    "\n",
    "#Verify that the sampling converged\n",
    "plt.plot(trace['sd'])\n",
    "#plt.plot(trace['x[6]'])\n",
    "\n",
    "#Obtain the prediction samples\n",
    "y_pred = y_max[0]*(trace['Intercept'].reshape(400,1)\n",
    "                  +np.dot(trace['x[0]'].reshape(400,1),X_test_pca[:,0].reshape(1,537))\n",
    "                  +np.dot(trace['x[1]'].reshape(400,1),X_test_pca[:,1].reshape(1,537))\n",
    "                  +np.dot(trace['x[2]'].reshape(400,1),X_test_pca[:,2].reshape(1,537))\n",
    "                  +np.dot(trace['x[3]'].reshape(400,1),X_test_pca[:,3].reshape(1,537))\n",
    "                  +np.dot(trace['x[4]'].reshape(400,1),X_test_pca[:,4].reshape(1,537))\n",
    "                  +np.dot(trace['x[5]'].reshape(400,1),X_test_pca[:,5].reshape(1,537))\n",
    "                  +np.dot(trace['x[6]'].reshape(400,1),X_test_pca[:,6].reshape(1,537))\n",
    "                  +np.dot(trace['x[7]'].reshape(400,1),X_test_pca[:,7].reshape(1,537))\n",
    "                  )\n",
    "np.save( 'y_pred', y_pred)"
   ]
  },
  {
   "cell_type": "code",
   "execution_count": 34,
   "metadata": {},
   "outputs": [
    {
     "data": {
      "text/plain": [
       "Text(0.5, 1.0, 'Late days confidence intervals vs true value')"
      ]
     },
     "execution_count": 34,
     "metadata": {},
     "output_type": "execute_result"
    },
    {
     "data": {
      "image/png": "[encoded data removed]",
      "text/plain": [
       "<Figure size 432x288 with 1 Axes>"
      ]
     },
     "metadata": {
      "needs_background": "light"
     },
     "output_type": "display_data"
    }
   ],
   "source": [
    "y_pred = np.load('y_pred.npy')\n",
    "y_true = y_max[0]*y_test[:,0]\n",
    "\n",
    "#let's plot the sample distribution of late days predictions for 10 random projects\n",
    "k = np.random.randint(530)\n",
    "plt.boxplot(y_pred[:,k:k+10])\n",
    "plt.scatter(np.arange(1,11), y_true[k:k+10], color='red', label='true')\n",
    "plt.ylabel('Number of days')\n",
    "plt.xlabel('some random projects')\n",
    "plt.legend()\n",
    "plt.title('Late days confidence intervals vs true value')\n",
    "#plt.scatter(np.arange(1,11), y_max[0]*reg_int.predict(X_test_int)[k:k+10, 0], label='regression prediction')"
   ]
  },
  {
   "cell_type": "code",
   "execution_count": 33,
   "metadata": {},
   "outputs": [
    {
     "name": "stdout",
     "output_type": "stream",
     "text": [
      "number of points who fell in the 95% confidence interval: 0.20111731843575403\n"
     ]
    },
    {
     "data": {
      "text/plain": [
       "Text(0, 0.5, 'Number of days')"
      ]
     },
     "execution_count": 33,
     "metadata": {},
     "output_type": "execute_result"
    },
    {
     "data": {
      "image/png": "[encoded data removed]",
      "text/plain": [
       "<Figure size 432x288 with 1 Axes>"
      ]
     },
     "metadata": {
      "needs_background": "light"
     },
     "output_type": "display_data"
    }
   ],
   "source": [
    "upper_bound = np.percentile(y_pred,97.5, axis=0)\n",
    "lower_bound = np.percentile(y_pred, 2.5, axis=0)\n",
    "\n",
    "ratio=0\n",
    "for k in range(537):\n",
    "    if (y_true[k]<upper_bound[k] and y_true[k]> lower_bound[k]):\n",
    "        ratio+=1/537\n",
    "print('ratio of points who fell in the 95% confidence interval:', ratio)\n",
    "\n",
    "plt.boxplot(upper_bound - lower_bound)\n",
    "plt.title('Distribution of the size of the 95% confidence interval for each project')\n",
    "plt.ylabel('Number of days')"
   ]
  },
  {
   "cell_type": "markdown",
   "metadata": {},
   "source": [
    "Because the linear regression does not fit very well the data, confidence intervals will be centered around points that are fairly inaccurate but we could generalize this technic to a model with better predictions."
   ]
  },
  {
   "cell_type": "markdown",
   "metadata": {},
   "source": [
    "## Gaussian Process\n",
    "\n",
    "To model more precisely the uncertainty, we use a gaussian process. Its concept is similar to the k-nearest neighbors algorithm, in the sense that it estimates the labels of a project given other projects 'close' to the former. The gaussian process fits a gaussian distribution for every points of the X space with a mean and a variance that vary with the predictors."
   ]
  },
  {
   "cell_type": "code",
   "execution_count": 39,
   "metadata": {},
   "outputs": [
    {
     "name": "stderr",
     "output_type": "stream",
     "text": [
      "C:\\Users\\pelan\\Anaconda3\\lib\\site-packages\\sklearn\\base.py:420: FutureWarning: The default value of multioutput (not exposed in score method) will change from 'variance_weighted' to 'uniform_average' in 0.23 to keep consistent with 'metrics.r2_score'. To specify the default value manually and avoid the warning, please either call 'metrics.r2_score' directly or make a custom scorer with 'metrics.make_scorer' (the built-in scorer 'r2' uses multioutput='uniform_average').\n",
      "  \"multioutput='uniform_average').\", FutureWarning)\n"
     ]
    },
    {
     "data": {
      "text/plain": [
       "0.1848837007372394"
      ]
     },
     "execution_count": 39,
     "metadata": {},
     "output_type": "execute_result"
    }
   ],
   "source": [
    "#Naive Gaussian Process\n",
    "from sklearn.gaussian_process import GaussianProcessRegressor\n",
    "\n",
    "gpr = GaussianProcessRegressor(alpha=0.01).fit(X_train_pca, y_train)\n",
    "gpr.r2_score(X_test_pca, y_test)"
   ]
  },
  {
   "cell_type": "markdown",
   "metadata": {},
   "source": [
    "We can tune the Gaussian process by paying attention to some parameters:\n",
    "- First we can chose our own Kernel, which describe the importance we give to close and distant neighbors. The classic is to use a constant times a RBF function which is equivalent to the L2 norm distance. We set the initial values of its parameter and the boundaries of the latter\n",
    "- We have to pick an alpha that represents the certainty of the observations (y_train). Because there is lot of variability in the projects, we set a big enough value to this parameter.\n",
    "\n",
    "Then the algorithm tune the parameters by optimizing a log likelihood function."
   ]
  },
  {
   "cell_type": "code",
   "execution_count": 41,
   "metadata": {},
   "outputs": [
    {
     "name": "stderr",
     "output_type": "stream",
     "text": [
      "C:\\Users\\pelan\\Anaconda3\\lib\\site-packages\\sklearn\\base.py:420: FutureWarning: The default value of multioutput (not exposed in score method) will change from 'variance_weighted' to 'uniform_average' in 0.23 to keep consistent with 'metrics.r2_score'. To specify the default value manually and avoid the warning, please either call 'metrics.r2_score' directly or make a custom scorer with 'metrics.make_scorer' (the built-in scorer 'r2' uses multioutput='uniform_average').\n",
      "  \"multioutput='uniform_average').\", FutureWarning)\n"
     ]
    },
    {
     "data": {
      "text/plain": [
       "0.25151044643004816"
      ]
     },
     "execution_count": 41,
     "metadata": {},
     "output_type": "execute_result"
    }
   ],
   "source": [
    "#Tuned Gaussian Process\n",
    "from sklearn.gaussian_process.kernels import RBF, ConstantKernel as C\n",
    "#Kernel prior\n",
    "kernel =    C(.1, (1e-3, 1e1)) * RBF(length_scale=0.03, length_scale_bounds=(1e-2, 1e2))\n",
    "\n",
    "gpr = GaussianProcessRegressor(kernel = kernel, n_restarts_optimizer=9, normalize_y=True, alpha=0.01).fit(X_train_pca, y_train)\n",
    "\n",
    "print('R2 score:', gpr.score(X_test_pca, y_test))\n",
    "print('fitted Kernel:', gpr.kernel_)"
   ]
  },
  {
   "cell_type": "markdown",
   "metadata": {},
   "source": [
    "We can validate the boundaries for the kernel, as the optimum values fall inside the boundaries and not on the edge. It tells us that at least that the optimum is a local optimum. By looking at the R2 score we can see the GP performs slightly worse than the linear regression\n",
    "\n",
    "We can compare the accuracy of the confidence interval for late days:"
   ]
  },
  {
   "cell_type": "code",
   "execution_count": 51,
   "metadata": {},
   "outputs": [
    {
     "name": "stdout",
     "output_type": "stream",
     "text": [
      "number of points who fell in the 95% confidence interval: 0.3854748603351952\n"
     ]
    },
    {
     "data": {
      "text/plain": [
       "Text(0, 0.5, 'Number of days')"
      ]
     },
     "execution_count": 51,
     "metadata": {},
     "output_type": "execute_result"
    },
    {
     "data": {
      "image/png": "[encoded data removed]",
      "text/plain": [
       "<Figure size 432x288 with 1 Axes>"
      ]
     },
     "metadata": {
      "needs_background": "light"
     },
     "output_type": "display_data"
    }
   ],
   "source": [
    "y_pred2, sigma = gpr.predict(X_test_pca, return_std=True)\n",
    "\n",
    "#in a normal distribution ~95% of the observations are within 2 sigma of the mean\n",
    "upper_bound2 = y_max[0]*(y_pred2[:,0] + 2*sigma) \n",
    "lower_bound2 =  y_max[0]*(y_pred2[:,0] - 2*sigma)\n",
    "\n",
    "ratio=0\n",
    "for k in range(537):\n",
    "    if (y_true[k]<upper_bound2[k] and y_true[k]> lower_bound2[k]):\n",
    "        ratio+=1/537\n",
    "print('ratio of points who fell in the 95% confidence interval:', ratio)\n",
    "\n",
    "plt.boxplot(upper_bound - lower_bound)\n",
    "plt.title('Distribution of the size of the 95% confidence interval for each project')\n",
    "plt.ylabel('Number of days')"
   ]
  },
  {
   "cell_type": "markdown",
   "metadata": {},
   "source": [
    "So the confidence intervals are more accurate than that of the Bayesian linear regression. They tend to be also wider.\n",
    "\n",
    "To obtain better prediction intervals (thinner and centered on the right value), other features could be added. But then a variable selection process, like PCA, should be used as Bayesian algorithms do not perform well in high dimension."
   ]
  }
 ],
 "metadata": {
  "kernelspec": {
   "display_name": "Python 3",
   "language": "python",
   "name": "python3"
  },
  "language_info": {
   "codemirror_mode": {
    "name": "ipython",
    "version": 3
   },
   "file_extension": ".py",
   "mimetype": "text/x-python",
   "name": "python",
   "nbconvert_exporter": "python",
   "pygments_lexer": "ipython3",
   "version": "3.6.9"
  }
 },
 "nbformat": 4,
 "nbformat_minor": 2
}
